{
 "cells": [
  {
   "cell_type": "code",
   "execution_count": 2,
   "metadata": {},
   "outputs": [
    {
     "name": "stderr",
     "output_type": "stream",
     "text": [
      "Using TensorFlow backend.\n"
     ]
    }
   ],
   "source": [
    "import keras\n",
    "from keras.models import Sequential\n",
    "from keras.layers import Dense, Dropout, Flatten\n",
    "from keras.layers import Conv2D, MaxPooling2D\n",
    "import keras.callbacks as cb\n",
    "import numpy as np\n",
    "from keras.datasets import mnist\n",
    "import matplotlib.pyplot as plt\n",
    "from keras.utils import to_categorical"
   ]
  },
  {
   "cell_type": "markdown",
   "metadata": {},
   "source": [
    "Load the mnist data"
   ]
  },
  {
   "cell_type": "code",
   "execution_count": 3,
   "metadata": {},
   "outputs": [],
   "source": [
    "(x_train, y_train), (x_test, y_test) = mnist.load_data()"
   ]
  },
  {
   "cell_type": "code",
   "execution_count": 4,
   "metadata": {},
   "outputs": [],
   "source": [
    "X = x_train.reshape(60000,28,28,1).astype('float32') /255\n",
    "test_X = x_test.reshape(10000,28,28,1).astype('float32') /255\n",
    "Y = to_categorical(y_train)\n",
    "test_Y = to_categorical(y_test)"
   ]
  },
  {
   "cell_type": "code",
   "execution_count": 5,
   "metadata": {},
   "outputs": [],
   "source": [
    "class LossHistory(cb.Callback):\n",
    "    def on_train_begin(self, logs={}):\n",
    "        self.losses = []\n",
    "\n",
    "    def on_batch_end(self, batch, logs={}):\n",
    "        batch_loss = logs.get('loss')\n",
    "        self.losses.append(batch_loss)"
   ]
  },
  {
   "cell_type": "code",
   "execution_count": 7,
   "metadata": {},
   "outputs": [],
   "source": [
    "def plot_losses(losses):\n",
    "    plt.plot(losses)\n",
    "    plt.title('Loss per batch')\n",
    "    plt.show()"
   ]
  },
  {
   "cell_type": "markdown",
   "metadata": {},
   "source": [
    "Create training and validation data"
   ]
  },
  {
   "cell_type": "code",
   "execution_count": 8,
   "metadata": {},
   "outputs": [],
   "source": [
    "seed = 0\n",
    "np.random.seed(seed)            \n",
    "m = len(X)                  # number of training examples\n",
    "minibatch_size = 10000\n",
    "# Shuffle (X, Y)\n",
    "permutation = list(np.random.permutation(m))\n",
    "shuffled_X = X[permutation, :]\n",
    "shuffled_Y = Y[permutation, :]\n",
    "\n",
    "# Create minibatch\n",
    "minibatch_train_X = shuffled_X[minibatch_size : 2*minibatch_size, :]\n",
    "minibatch_train_Y = shuffled_Y[minibatch_size : 2*minibatch_size, :]\n",
    "minibatch_valid_X = shuffled_X[2*minibatch_size : 3*minibatch_size, :]\n",
    "minibatch_valid_Y = shuffled_Y[2*minibatch_size : 3*minibatch_size, :]"
   ]
  },
  {
   "cell_type": "code",
   "execution_count": 9,
   "metadata": {},
   "outputs": [
    {
     "name": "stdout",
     "output_type": "stream",
     "text": [
      "(10000, 28, 28, 1) (10000, 10)\n",
      "(10000, 28, 28, 1) (10000, 10)\n"
     ]
    }
   ],
   "source": [
    "print(minibatch_train_X.shape, minibatch_train_Y.shape)\n",
    "print(minibatch_valid_X.shape, minibatch_valid_Y.shape)"
   ]
  },
  {
   "cell_type": "markdown",
   "metadata": {},
   "source": [
    "# CNN Architectures"
   ]
  },
  {
   "cell_type": "markdown",
   "metadata": {},
   "source": [
    "Here I have analyzed varying cnn architectures"
   ]
  },
  {
   "cell_type": "code",
   "execution_count": 44,
   "metadata": {},
   "outputs": [],
   "source": [
    "def init_model_cnn1():\n",
    "    model = Sequential()\n",
    "    model.add(Conv2D(64, kernel_size=(3, 3),\n",
    "                    activation='relu',\n",
    "                    input_shape=(28, 28, 1)))\n",
    "    model.add(Conv2D(128, (3, 3), activation='relu'))\n",
    "    model.add(MaxPooling2D(pool_size=(2, 2)))\n",
    "    model.add(Dropout(0.25))\n",
    "    model.add(Flatten())\n",
    "    model.add(Dense(128, activation='relu', kernel_regularizer=None))\n",
    "    model.add(Dropout(0.5))\n",
    "    model.add(Dense(10, activation='softmax'))\n",
    "\n",
    "    model.compile(loss=keras.losses.categorical_crossentropy,\n",
    "              optimizer=keras.optimizers.Adam(lr=0.001, beta_1=0.9, beta_2=0.999, amsgrad=False),\n",
    "              metrics=['accuracy'])\n",
    "    return model"
   ]
  },
  {
   "cell_type": "code",
   "execution_count": 45,
   "metadata": {},
   "outputs": [
    {
     "name": "stdout",
     "output_type": "stream",
     "text": [
      "Train on 10000 samples, validate on 10000 samples\n",
      "Epoch 1/20\n",
      " - 97s - loss: 0.7870 - acc: 0.7515 - val_loss: 0.2348 - val_acc: 0.9328\n",
      "Epoch 2/20\n",
      " - 95s - loss: 0.2598 - acc: 0.9200 - val_loss: 0.1414 - val_acc: 0.9569\n",
      "Epoch 3/20\n",
      " - 94s - loss: 0.1811 - acc: 0.9450 - val_loss: 0.0948 - val_acc: 0.9709\n",
      "Epoch 4/20\n",
      " - 87s - loss: 0.1233 - acc: 0.9621 - val_loss: 0.0813 - val_acc: 0.9743\n",
      "Epoch 5/20\n",
      " - 88s - loss: 0.1003 - acc: 0.9689 - val_loss: 0.0760 - val_acc: 0.9763\n",
      "Epoch 6/20\n",
      " - 93s - loss: 0.0793 - acc: 0.9756 - val_loss: 0.0726 - val_acc: 0.9786\n",
      "Epoch 7/20\n",
      " - 77s - loss: 0.0631 - acc: 0.9804 - val_loss: 0.0662 - val_acc: 0.9800\n",
      "Epoch 8/20\n",
      " - 87s - loss: 0.0541 - acc: 0.9809 - val_loss: 0.0657 - val_acc: 0.9796\n",
      "Epoch 9/20\n",
      " - 91s - loss: 0.0483 - acc: 0.9842 - val_loss: 0.0653 - val_acc: 0.9810\n",
      "Epoch 10/20\n",
      " - 93s - loss: 0.0455 - acc: 0.9843 - val_loss: 0.0650 - val_acc: 0.9816\n",
      "Epoch 11/20\n",
      " - 89s - loss: 0.0390 - acc: 0.9871 - val_loss: 0.0632 - val_acc: 0.9830\n",
      "Epoch 12/20\n",
      " - 81s - loss: 0.0398 - acc: 0.9869 - val_loss: 0.0661 - val_acc: 0.9814\n",
      "Epoch 13/20\n",
      " - 91s - loss: 0.0343 - acc: 0.9881 - val_loss: 0.0694 - val_acc: 0.9822\n",
      "Epoch 14/20\n",
      " - 90s - loss: 0.0338 - acc: 0.9878 - val_loss: 0.0691 - val_acc: 0.9819\n",
      "Epoch 15/20\n",
      " - 92s - loss: 0.0290 - acc: 0.9905 - val_loss: 0.0630 - val_acc: 0.9822\n",
      "Epoch 16/20\n",
      " - 92s - loss: 0.0255 - acc: 0.9905 - val_loss: 0.0718 - val_acc: 0.9818\n",
      "Epoch 17/20\n",
      " - 92s - loss: 0.0241 - acc: 0.9923 - val_loss: 0.0687 - val_acc: 0.9818\n",
      "Epoch 18/20\n",
      " - 84s - loss: 0.0177 - acc: 0.9935 - val_loss: 0.0675 - val_acc: 0.9817\n",
      "Epoch 19/20\n",
      " - 90s - loss: 0.0175 - acc: 0.9933 - val_loss: 0.0712 - val_acc: 0.9843\n",
      "Epoch 20/20\n",
      " - 93s - loss: 0.0153 - acc: 0.9946 - val_loss: 0.0724 - val_acc: 0.9833\n",
      "10000/10000 [==============================] - 24s 2ms/step\n",
      "[0.05909331781068529, 0.9836]\n"
     ]
    },
    {
     "data": {
      "image/png": "[encoded data removed]",
      "text/plain": [
       "<Figure size 432x288 with 1 Axes>"
      ]
     },
     "metadata": {
      "needs_background": "light"
     },
     "output_type": "display_data"
    }
   ],
   "source": [
    "model = init_model_cnn1()\n",
    "history = LossHistory()\n",
    "model.fit(minibatch_train_X, minibatch_train_Y, epochs=20, batch_size=256,\n",
    "                callbacks=[history],\n",
    "                validation_data=(minibatch_valid_X, minibatch_valid_Y), verbose=2)\n",
    "score = model.evaluate(test_X, test_Y, batch_size=16)\n",
    "print(score)\n",
    "plot_losses(history.losses)"
   ]
  },
  {
   "cell_type": "code",
   "execution_count": 48,
   "metadata": {},
   "outputs": [],
   "source": [
    "def init_model_cnn2():\n",
    "    model = Sequential()\n",
    "    model.add(Conv2D(64, kernel_size=(3, 3),\n",
    "                    activation='tanh',\n",
    "                    input_shape=(28, 28, 1)))\n",
    "    model.add(Conv2D(32, (3, 3), activation='tanh'))\n",
    "    model.add(MaxPooling2D(pool_size=(2, 2)))\n",
    "    model.add(Dropout(0.25))\n",
    "    model.add(Flatten())\n",
    "    model.add(Dense(128, activation='relu', kernel_regularizer=None))\n",
    "    model.add(Dropout(0.5))\n",
    "    model.add(Dense(10, activation='softmax'))\n",
    "\n",
    "    model.compile(loss=keras.losses.categorical_crossentropy,\n",
    "              optimizer=keras.optimizers.Adam(lr=0.001, beta_1=0.9, beta_2=0.999, amsgrad=False),\n",
    "              metrics=['accuracy'])\n",
    "    return model"
   ]
  },
  {
   "cell_type": "code",
   "execution_count": 49,
   "metadata": {},
   "outputs": [
    {
     "name": "stdout",
     "output_type": "stream",
     "text": [
      "Train on 10000 samples, validate on 10000 samples\n",
      "Epoch 1/20\n",
      " - 22s - loss: 0.8690 - acc: 0.7250 - val_loss: 0.3116 - val_acc: 0.9081\n",
      "Epoch 2/20\n",
      " - 21s - loss: 0.3703 - acc: 0.8874 - val_loss: 0.2259 - val_acc: 0.9336\n",
      "Epoch 3/20\n",
      " - 23s - loss: 0.2711 - acc: 0.9169 - val_loss: 0.1760 - val_acc: 0.9453\n",
      "Epoch 4/20\n",
      " - 24s - loss: 0.2160 - acc: 0.9334 - val_loss: 0.1449 - val_acc: 0.9551\n",
      "Epoch 5/20\n",
      " - 21s - loss: 0.1871 - acc: 0.9443 - val_loss: 0.1286 - val_acc: 0.9615\n",
      "Epoch 6/20\n",
      " - 21s - loss: 0.1468 - acc: 0.9543 - val_loss: 0.1183 - val_acc: 0.9639\n",
      "Epoch 7/20\n",
      " - 21s - loss: 0.1308 - acc: 0.9602 - val_loss: 0.1118 - val_acc: 0.9654\n",
      "Epoch 8/20\n",
      " - 21s - loss: 0.1117 - acc: 0.9654 - val_loss: 0.1048 - val_acc: 0.9685\n",
      "Epoch 9/20\n",
      " - 21s - loss: 0.1029 - acc: 0.9666 - val_loss: 0.1006 - val_acc: 0.9687\n",
      "Epoch 10/20\n",
      " - 21s - loss: 0.0888 - acc: 0.9735 - val_loss: 0.1044 - val_acc: 0.9689\n",
      "Epoch 11/20\n",
      " - 21s - loss: 0.0728 - acc: 0.9757 - val_loss: 0.0919 - val_acc: 0.9719\n",
      "Epoch 12/20\n",
      " - 21s - loss: 0.0829 - acc: 0.9724 - val_loss: 0.0928 - val_acc: 0.9731\n",
      "Epoch 13/20\n",
      " - 21s - loss: 0.0664 - acc: 0.9769 - val_loss: 0.0910 - val_acc: 0.9724\n",
      "Epoch 14/20\n",
      " - 21s - loss: 0.0584 - acc: 0.9809 - val_loss: 0.0817 - val_acc: 0.9749\n",
      "Epoch 15/20\n",
      " - 21s - loss: 0.0528 - acc: 0.9825 - val_loss: 0.0830 - val_acc: 0.9759\n",
      "Epoch 16/20\n",
      " - 21s - loss: 0.0458 - acc: 0.9852 - val_loss: 0.0852 - val_acc: 0.9746\n",
      "Epoch 17/20\n",
      " - 21s - loss: 0.0554 - acc: 0.9813 - val_loss: 0.0825 - val_acc: 0.9766\n",
      "Epoch 18/20\n",
      " - 23s - loss: 0.0535 - acc: 0.9816 - val_loss: 0.0810 - val_acc: 0.9781\n",
      "Epoch 19/20\n",
      " - 22s - loss: 0.0489 - acc: 0.9834 - val_loss: 0.0796 - val_acc: 0.9772\n",
      "Epoch 20/20\n",
      " - 21s - loss: 0.0398 - acc: 0.9867 - val_loss: 0.0847 - val_acc: 0.9774\n",
      "10000/10000 [==============================] - 7s 701us/step\n",
      "[0.0696563659007017, 0.9798]\n"
     ]
    },
    {
     "data": {
      "image/png": "[encoded data removed]",
      "text/plain": [
       "<Figure size 432x288 with 1 Axes>"
      ]
     },
     "metadata": {
      "needs_background": "light"
     },
     "output_type": "display_data"
    }
   ],
   "source": [
    "model = init_model_cnn2()\n",
    "history = LossHistory()\n",
    "model.fit(minibatch_train_X, minibatch_train_Y, epochs=20, batch_size=256,\n",
    "                callbacks=[history],\n",
    "                validation_data=(minibatch_valid_X, minibatch_valid_Y), verbose=2)\n",
    "score = model.evaluate(test_X, test_Y, batch_size=16)\n",
    "print(score)\n",
    "plot_losses(history.losses)"
   ]
  },
  {
   "cell_type": "markdown",
   "metadata": {},
   "source": [
    "Increasing the number of layers has resulted in a slower performance. Each epoch took a long time to be completed. However the accuracy increased so that is an advantage. A negligible overfitting might be present but that may be due to small size of dataset. In the second model we have used tanh as our activation function. Since the number of units were decreased, we received a faster result. The accuracy wasn't much affected probably due to small data size. achieved an accuracy of ~98% in both cases."
   ]
  },
  {
   "cell_type": "markdown",
   "metadata": {},
   "source": [
    "# Optimizers"
   ]
  },
  {
   "cell_type": "markdown",
   "metadata": {},
   "source": [
    "Here I have checked the result of CNN using various optimizers"
   ]
  },
  {
   "cell_type": "code",
   "execution_count": 10,
   "metadata": {},
   "outputs": [],
   "source": [
    "def init_model_optimizer(optimized):\n",
    "    model = Sequential()\n",
    "    model.add(Conv2D(32, kernel_size=(3, 3),\n",
    "                    activation='relu',\n",
    "                    input_shape=(28, 28, 1)))\n",
    "    model.add(Conv2D(64, (3, 3), activation='relu'))\n",
    "    model.add(MaxPooling2D(pool_size=(2, 2)))\n",
    "    model.add(Dropout(0.25))\n",
    "    model.add(Flatten())\n",
    "    model.add(Dense(128, activation='relu', kernel_regularizer=None))\n",
    "    model.add(Dropout(0.5))\n",
    "    model.add(Dense(10, activation='softmax'))\n",
    "\n",
    "    model.compile(loss=keras.losses.categorical_crossentropy,\n",
    "              optimizer=optimized,\n",
    "              metrics=['accuracy'])\n",
    "    return model"
   ]
  },
  {
   "cell_type": "code",
   "execution_count": 13,
   "metadata": {},
   "outputs": [],
   "source": [
    "optimizer_Adadelta = keras.optimizers.Adadelta()\n",
    "optimizer_rms = keras.optimizers.RMSprop(lr=0.001, rho=0.9)\n",
    "optimizer_adam = keras.optimizers.Adam(lr=0.001, beta_1=0.9, beta_2=0.999, amsgrad=False)"
   ]
  },
  {
   "cell_type": "markdown",
   "metadata": {},
   "source": [
    "Using Ada Delta optimizer"
   ]
  },
  {
   "cell_type": "code",
   "execution_count": 14,
   "metadata": {},
   "outputs": [
    {
     "name": "stdout",
     "output_type": "stream",
     "text": [
      "WARNING:tensorflow:From C:\\Users\\Bikram Kumar De\\Anaconda3\\lib\\site-packages\\keras\\backend\\tensorflow_backend.py:74: The name tf.get_default_graph is deprecated. Please use tf.compat.v1.get_default_graph instead.\n",
      "\n",
      "WARNING:tensorflow:From C:\\Users\\Bikram Kumar De\\Anaconda3\\lib\\site-packages\\keras\\backend\\tensorflow_backend.py:517: The name tf.placeholder is deprecated. Please use tf.compat.v1.placeholder instead.\n",
      "\n",
      "WARNING:tensorflow:From C:\\Users\\Bikram Kumar De\\Anaconda3\\lib\\site-packages\\keras\\backend\\tensorflow_backend.py:4138: The name tf.random_uniform is deprecated. Please use tf.random.uniform instead.\n",
      "\n",
      "WARNING:tensorflow:From C:\\Users\\Bikram Kumar De\\Anaconda3\\lib\\site-packages\\keras\\backend\\tensorflow_backend.py:3976: The name tf.nn.max_pool is deprecated. Please use tf.nn.max_pool2d instead.\n",
      "\n",
      "WARNING:tensorflow:From C:\\Users\\Bikram Kumar De\\Anaconda3\\lib\\site-packages\\keras\\backend\\tensorflow_backend.py:133: The name tf.placeholder_with_default is deprecated. Please use tf.compat.v1.placeholder_with_default instead.\n",
      "\n",
      "WARNING:tensorflow:From C:\\Users\\Bikram Kumar De\\Anaconda3\\lib\\site-packages\\keras\\backend\\tensorflow_backend.py:3445: calling dropout (from tensorflow.python.ops.nn_ops) with keep_prob is deprecated and will be removed in a future version.\n",
      "Instructions for updating:\n",
      "Please use `rate` instead of `keep_prob`. Rate should be set to `rate = 1 - keep_prob`.\n",
      "WARNING:tensorflow:From C:\\Users\\Bikram Kumar De\\Anaconda3\\lib\\site-packages\\keras\\optimizers.py:790: The name tf.train.Optimizer is deprecated. Please use tf.compat.v1.train.Optimizer instead.\n",
      "\n",
      "WARNING:tensorflow:From C:\\Users\\Bikram Kumar De\\Anaconda3\\lib\\site-packages\\keras\\backend\\tensorflow_backend.py:3295: The name tf.log is deprecated. Please use tf.math.log instead.\n",
      "\n",
      "WARNING:tensorflow:From C:\\Users\\Bikram Kumar De\\Anaconda3\\lib\\site-packages\\tensorflow\\python\\ops\\math_grad.py:1250: add_dispatch_support.<locals>.wrapper (from tensorflow.python.ops.array_ops) is deprecated and will be removed in a future version.\n",
      "Instructions for updating:\n",
      "Use tf.where in 2.0, which has the same broadcast rule as np.where\n",
      "Train on 10000 samples, validate on 10000 samples\n",
      "Epoch 1/20\n",
      " - 29s - loss: 1.0575 - acc: 0.6519 - val_loss: 0.3837 - val_acc: 0.8926\n",
      "Epoch 2/20\n",
      " - 26s - loss: 0.3818 - acc: 0.8833 - val_loss: 0.3091 - val_acc: 0.9013\n",
      "Epoch 3/20\n",
      " - 26s - loss: 0.2474 - acc: 0.9260 - val_loss: 0.2498 - val_acc: 0.9242\n",
      "Epoch 4/20\n",
      " - 27s - loss: 0.1953 - acc: 0.9434 - val_loss: 0.2966 - val_acc: 0.9068\n",
      "Epoch 5/20\n",
      " - 25s - loss: 0.1614 - acc: 0.9528 - val_loss: 0.1278 - val_acc: 0.9599\n",
      "Epoch 6/20\n",
      " - 28s - loss: 0.1289 - acc: 0.9603 - val_loss: 0.1441 - val_acc: 0.9542\n",
      "Epoch 7/20\n",
      " - 26s - loss: 0.1164 - acc: 0.9649 - val_loss: 0.0937 - val_acc: 0.9703\n",
      "Epoch 8/20\n",
      " - 25s - loss: 0.1016 - acc: 0.9681 - val_loss: 0.0825 - val_acc: 0.9731\n",
      "Epoch 9/20\n",
      " - 27s - loss: 0.0845 - acc: 0.9733 - val_loss: 0.1049 - val_acc: 0.9661\n",
      "Epoch 10/20\n",
      " - 22s - loss: 0.0801 - acc: 0.9737 - val_loss: 0.0852 - val_acc: 0.9731\n",
      "Epoch 11/20\n",
      " - 23s - loss: 0.0670 - acc: 0.9790 - val_loss: 0.0715 - val_acc: 0.9777\n",
      "Epoch 12/20\n",
      " - 25s - loss: 0.0656 - acc: 0.9802 - val_loss: 0.0779 - val_acc: 0.9757\n",
      "Epoch 13/20\n",
      " - 25s - loss: 0.0581 - acc: 0.9825 - val_loss: 0.0695 - val_acc: 0.9803\n",
      "Epoch 14/20\n",
      " - 24s - loss: 0.0534 - acc: 0.9828 - val_loss: 0.0895 - val_acc: 0.9735\n",
      "Epoch 15/20\n",
      " - 26s - loss: 0.0520 - acc: 0.9817 - val_loss: 0.0734 - val_acc: 0.9781\n",
      "Epoch 16/20\n",
      " - 26s - loss: 0.0494 - acc: 0.9848 - val_loss: 0.0658 - val_acc: 0.9799\n",
      "Epoch 17/20\n",
      " - 25s - loss: 0.0416 - acc: 0.9865 - val_loss: 0.0636 - val_acc: 0.9807\n",
      "Epoch 18/20\n",
      " - 26s - loss: 0.0379 - acc: 0.9876 - val_loss: 0.0683 - val_acc: 0.9802\n",
      "Epoch 19/20\n",
      " - 25s - loss: 0.0356 - acc: 0.9883 - val_loss: 0.0690 - val_acc: 0.9795\n",
      "Epoch 20/20\n",
      " - 25s - loss: 0.0401 - acc: 0.9861 - val_loss: 0.0621 - val_acc: 0.9816\n",
      "10000/10000 [==============================] - 7s 727us/step\n",
      "[0.05415067703565437, 0.983]\n"
     ]
    },
    {
     "data": {
      "image/png": "[encoded data removed]",
      "text/plain": [
       "<Figure size 432x288 with 1 Axes>"
      ]
     },
     "metadata": {
      "needs_background": "light"
     },
     "output_type": "display_data"
    }
   ],
   "source": [
    "model = init_model_optimizer(optimizer_Adadelta)\n",
    "history = LossHistory()\n",
    "model.fit(minibatch_train_X, minibatch_train_Y, epochs=20, batch_size=256,\n",
    "                callbacks=[history],\n",
    "                validation_data=(minibatch_valid_X, minibatch_valid_Y), verbose=2)\n",
    "score = model.evaluate(test_X, test_Y, batch_size=16)\n",
    "print(score)\n",
    "plot_losses(history.losses)"
   ]
  },
  {
   "cell_type": "markdown",
   "metadata": {},
   "source": [
    "Using RMS Prop Optimizer"
   ]
  },
  {
   "cell_type": "code",
   "execution_count": 15,
   "metadata": {},
   "outputs": [
    {
     "name": "stdout",
     "output_type": "stream",
     "text": [
      "Train on 10000 samples, validate on 10000 samples\n",
      "Epoch 1/20\n",
      " - 28s - loss: 0.7893 - acc: 0.7492 - val_loss: 0.2512 - val_acc: 0.9307\n",
      "Epoch 2/20\n",
      " - 27s - loss: 0.2612 - acc: 0.9175 - val_loss: 0.1469 - val_acc: 0.9538\n",
      "Epoch 3/20\n",
      " - 26s - loss: 0.1826 - acc: 0.9472 - val_loss: 0.1716 - val_acc: 0.9461\n",
      "Epoch 4/20\n",
      " - 26s - loss: 0.1379 - acc: 0.9606 - val_loss: 0.1495 - val_acc: 0.9509\n",
      "Epoch 5/20\n",
      " - 27s - loss: 0.1122 - acc: 0.9658 - val_loss: 0.0843 - val_acc: 0.9740\n",
      "Epoch 6/20\n",
      " - 26s - loss: 0.0883 - acc: 0.9718 - val_loss: 0.0899 - val_acc: 0.9719\n",
      "Epoch 7/20\n",
      " - 26s - loss: 0.0749 - acc: 0.9765 - val_loss: 0.0719 - val_acc: 0.9771\n",
      "Epoch 8/20\n",
      " - 28s - loss: 0.0648 - acc: 0.9793 - val_loss: 0.0724 - val_acc: 0.9759\n",
      "Epoch 9/20\n",
      " - 26s - loss: 0.0560 - acc: 0.9821 - val_loss: 0.0921 - val_acc: 0.9711\n",
      "Epoch 10/20\n",
      " - 26s - loss: 0.0490 - acc: 0.9840 - val_loss: 0.0703 - val_acc: 0.9776\n",
      "Epoch 11/20\n",
      " - 26s - loss: 0.0435 - acc: 0.9861 - val_loss: 0.0589 - val_acc: 0.9827\n",
      "Epoch 12/20\n",
      " - 26s - loss: 0.0409 - acc: 0.9860 - val_loss: 0.0573 - val_acc: 0.9827\n",
      "Epoch 13/20\n",
      " - 26s - loss: 0.0345 - acc: 0.9897 - val_loss: 0.0706 - val_acc: 0.9803\n",
      "Epoch 14/20\n",
      " - 26s - loss: 0.0312 - acc: 0.9905 - val_loss: 0.0703 - val_acc: 0.9800\n",
      "Epoch 15/20\n",
      " - 20s - loss: 0.0244 - acc: 0.9913 - val_loss: 0.0679 - val_acc: 0.9826\n",
      "Epoch 16/20\n",
      " - 23s - loss: 0.0268 - acc: 0.9909 - val_loss: 0.0644 - val_acc: 0.9830\n",
      "Epoch 17/20\n",
      " - 26s - loss: 0.0232 - acc: 0.9926 - val_loss: 0.0683 - val_acc: 0.9826\n",
      "Epoch 18/20\n",
      " - 25s - loss: 0.0213 - acc: 0.9935 - val_loss: 0.0651 - val_acc: 0.9838\n",
      "Epoch 19/20\n",
      " - 24s - loss: 0.0191 - acc: 0.9934 - val_loss: 0.0679 - val_acc: 0.9825\n",
      "Epoch 20/20\n",
      " - 27s - loss: 0.0185 - acc: 0.9948 - val_loss: 0.0691 - val_acc: 0.9825\n",
      "10000/10000 [==============================] - 8s 753us/step\n",
      "[0.056552390521663616, 0.9852]\n"
     ]
    },
    {
     "data": {
      "image/png": "[encoded data removed]",
      "text/plain": [
       "<Figure size 432x288 with 1 Axes>"
      ]
     },
     "metadata": {
      "needs_background": "light"
     },
     "output_type": "display_data"
    }
   ],
   "source": [
    "model = init_model_optimizer(optimizer_rms)\n",
    "history = LossHistory()\n",
    "model.fit(minibatch_train_X, minibatch_train_Y, epochs=20, batch_size=256,\n",
    "                callbacks=[history],\n",
    "                validation_data=(minibatch_valid_X, minibatch_valid_Y), verbose=2)\n",
    "score = model.evaluate(test_X, test_Y, batch_size=16)\n",
    "print(score)\n",
    "plot_losses(history.losses)"
   ]
  },
  {
   "cell_type": "markdown",
   "metadata": {},
   "source": [
    "Using Adam Optimizer"
   ]
  },
  {
   "cell_type": "code",
   "execution_count": 16,
   "metadata": {},
   "outputs": [
    {
     "name": "stdout",
     "output_type": "stream",
     "text": [
      "Train on 10000 samples, validate on 10000 samples\n",
      "Epoch 1/20\n",
      " - 28s - loss: 0.8864 - acc: 0.7213 - val_loss: 0.2719 - val_acc: 0.9184\n",
      "Epoch 2/20\n",
      " - 27s - loss: 0.3363 - acc: 0.9000 - val_loss: 0.1678 - val_acc: 0.9498\n",
      "Epoch 3/20\n",
      " - 25s - loss: 0.2193 - acc: 0.9355 - val_loss: 0.1260 - val_acc: 0.9614\n",
      "Epoch 4/20\n",
      " - 21s - loss: 0.1669 - acc: 0.9516 - val_loss: 0.1062 - val_acc: 0.9655\n",
      "Epoch 5/20\n",
      " - 26s - loss: 0.1331 - acc: 0.9595 - val_loss: 0.0907 - val_acc: 0.9725\n",
      "Epoch 6/20\n",
      " - 26s - loss: 0.1039 - acc: 0.9681 - val_loss: 0.0808 - val_acc: 0.9751\n",
      "Epoch 7/20\n",
      " - 26s - loss: 0.0942 - acc: 0.9714 - val_loss: 0.0825 - val_acc: 0.9747\n",
      "Epoch 8/20\n",
      " - 26s - loss: 0.0844 - acc: 0.9747 - val_loss: 0.0745 - val_acc: 0.9779\n",
      "Epoch 9/20\n",
      " - 26s - loss: 0.0717 - acc: 0.9772 - val_loss: 0.0770 - val_acc: 0.9768\n",
      "Epoch 10/20\n",
      " - 26s - loss: 0.0701 - acc: 0.9789 - val_loss: 0.0738 - val_acc: 0.9781\n",
      "Epoch 11/20\n",
      " - 27s - loss: 0.0571 - acc: 0.9817 - val_loss: 0.0705 - val_acc: 0.9788\n",
      "Epoch 12/20\n",
      " - 26s - loss: 0.0540 - acc: 0.9823 - val_loss: 0.0658 - val_acc: 0.9808\n",
      "Epoch 13/20\n",
      " - 26s - loss: 0.0537 - acc: 0.9831 - val_loss: 0.0693 - val_acc: 0.9791\n",
      "Epoch 14/20\n",
      " - 26s - loss: 0.0432 - acc: 0.9866 - val_loss: 0.0641 - val_acc: 0.9814\n",
      "Epoch 15/20\n",
      " - 26s - loss: 0.0360 - acc: 0.9889 - val_loss: 0.0690 - val_acc: 0.9811\n",
      "Epoch 16/20\n",
      " - 26s - loss: 0.0395 - acc: 0.9868 - val_loss: 0.0677 - val_acc: 0.9819\n",
      "Epoch 17/20\n",
      " - 26s - loss: 0.0358 - acc: 0.9886 - val_loss: 0.0699 - val_acc: 0.9815\n",
      "Epoch 18/20\n",
      " - 26s - loss: 0.0346 - acc: 0.9876 - val_loss: 0.0711 - val_acc: 0.9804\n",
      "Epoch 19/20\n",
      " - 25s - loss: 0.0273 - acc: 0.9909 - val_loss: 0.0669 - val_acc: 0.9824\n",
      "Epoch 20/20\n",
      " - 26s - loss: 0.0263 - acc: 0.9909 - val_loss: 0.0690 - val_acc: 0.9820\n",
      "10000/10000 [==============================] - 8s 752us/step\n",
      "[0.05331028743356999, 0.9838]\n"
     ]
    },
    {
     "data": {
      "image/png": "[encoded data removed]",
      "text/plain": [
       "<Figure size 432x288 with 1 Axes>"
      ]
     },
     "metadata": {
      "needs_background": "light"
     },
     "output_type": "display_data"
    }
   ],
   "source": [
    "model = init_model_optimizer(optimizer_adam)\n",
    "history = LossHistory()\n",
    "model.fit(minibatch_train_X, minibatch_train_Y, epochs=20, batch_size=256,\n",
    "                callbacks=[history],\n",
    "                validation_data=(minibatch_valid_X, minibatch_valid_Y), verbose=2)\n",
    "score = model.evaluate(test_X, test_Y, batch_size=16)\n",
    "print(score)\n",
    "plot_losses(history.losses)"
   ]
  },
  {
   "cell_type": "markdown",
   "metadata": {},
   "source": [
    "We see the results of the optimizers.\n",
    "Ada Grad gives a training accuracy of 98.61% and a testing accuracy of 98.3%"
   ]
  },
  {
   "cell_type": "markdown",
   "metadata": {},
   "source": [
    "RMS Prop gives a training accuracy of 99.48% and a testing accuracy of 98.52%."
   ]
  },
  {
   "cell_type": "markdown",
   "metadata": {},
   "source": [
    "Adam gives a training accuracy of 99.09% and a testing accuracy of 98.38%"
   ]
  },
  {
   "cell_type": "markdown",
   "metadata": {},
   "source": [
    "Overall there is not a much difference in training a testing accuracy considering the size of data chosen was 10000. Also the high values of accuracy indicates that our optimizers has performed really well. "
   ]
  },
  {
   "cell_type": "markdown",
   "metadata": {},
   "source": [
    "# Regularization"
   ]
  },
  {
   "cell_type": "markdown",
   "metadata": {},
   "source": [
    "Here I have checked the effect of regularization of parameters"
   ]
  },
  {
   "cell_type": "markdown",
   "metadata": {},
   "source": [
    "Here parameter regularization is performed using dropout."
   ]
  },
  {
   "cell_type": "code",
   "execution_count": 28,
   "metadata": {},
   "outputs": [],
   "source": [
    "def init_model_regulate_Drop(drop_rate):\n",
    "    model = Sequential()\n",
    "    model.add(Conv2D(32, kernel_size=(3, 3),\n",
    "                    activation='relu',\n",
    "                    input_shape=(28, 28, 1)))\n",
    "    model.add(Conv2D(64, (3, 3), activation='relu'))\n",
    "    model.add(MaxPooling2D(pool_size=(2, 2)))\n",
    "    model.add(Dropout(0.25))\n",
    "    model.add(Flatten())\n",
    "    model.add(Dense(128, activation='relu', kernel_regularizer=None))\n",
    "    model.add(Dropout(drop_rate))\n",
    "    model.add(Dense(10, activation='softmax'))\n",
    "\n",
    "    model.compile(loss=keras.losses.categorical_crossentropy,\n",
    "                  optimizer = keras.optimizers.SGD(lr=0.01, momentum=0.0, nesterov=False),\n",
    "              metrics=['accuracy'])\n",
    "    return model"
   ]
  },
  {
   "cell_type": "code",
   "execution_count": 29,
   "metadata": {},
   "outputs": [
    {
     "name": "stdout",
     "output_type": "stream",
     "text": [
      "Train on 10000 samples, validate on 10000 samples\n",
      "Epoch 1/20\n",
      " - 27s - loss: 2.2741 - acc: 0.1614 - val_loss: 2.2169 - val_acc: 0.4525\n",
      "Epoch 2/20\n",
      " - 26s - loss: 2.1569 - acc: 0.2876 - val_loss: 1.9859 - val_acc: 0.6189\n",
      "Epoch 3/20\n",
      " - 24s - loss: 1.8474 - acc: 0.4198 - val_loss: 1.4287 - val_acc: 0.7012\n",
      "Epoch 4/20\n",
      " - 23s - loss: 1.4311 - acc: 0.5496 - val_loss: 0.9528 - val_acc: 0.7816\n",
      "Epoch 5/20\n",
      " - 24s - loss: 1.1488 - acc: 0.6253 - val_loss: 0.7147 - val_acc: 0.8416\n",
      "Epoch 6/20\n",
      " - 24s - loss: 1.0041 - acc: 0.6756 - val_loss: 0.6297 - val_acc: 0.8274\n",
      "Epoch 7/20\n",
      " - 23s - loss: 0.9189 - acc: 0.7051 - val_loss: 0.5077 - val_acc: 0.8665\n",
      "Epoch 8/20\n",
      " - 23s - loss: 0.8322 - acc: 0.7327 - val_loss: 0.4903 - val_acc: 0.8613\n",
      "Epoch 9/20\n",
      " - 23s - loss: 0.7787 - acc: 0.7548 - val_loss: 0.4787 - val_acc: 0.8676\n",
      "Epoch 10/20\n",
      " - 23s - loss: 0.7488 - acc: 0.7659 - val_loss: 0.4171 - val_acc: 0.8791\n",
      "Epoch 11/20\n",
      " - 23s - loss: 0.7141 - acc: 0.7746 - val_loss: 0.4579 - val_acc: 0.8674\n",
      "Epoch 12/20\n",
      " - 22s - loss: 0.6861 - acc: 0.7827 - val_loss: 0.4268 - val_acc: 0.8752\n",
      "Epoch 13/20\n",
      " - 24s - loss: 0.6739 - acc: 0.7892 - val_loss: 0.3630 - val_acc: 0.9002\n",
      "Epoch 14/20\n",
      " - 23s - loss: 0.6485 - acc: 0.7987 - val_loss: 0.3767 - val_acc: 0.8935\n",
      "Epoch 15/20\n",
      " - 23s - loss: 0.6349 - acc: 0.7966 - val_loss: 0.3672 - val_acc: 0.8953\n",
      "Epoch 16/20\n",
      " - 22s - loss: 0.6174 - acc: 0.8041 - val_loss: 0.3370 - val_acc: 0.9073\n",
      "Epoch 17/20\n",
      " - 23s - loss: 0.5954 - acc: 0.8156 - val_loss: 0.3578 - val_acc: 0.8958\n",
      "Epoch 18/20\n",
      " - 23s - loss: 0.6040 - acc: 0.8131 - val_loss: 0.3317 - val_acc: 0.9048\n",
      "Epoch 19/20\n",
      " - 22s - loss: 0.5777 - acc: 0.8251 - val_loss: 0.3401 - val_acc: 0.9080\n",
      "Epoch 20/20\n",
      " - 23s - loss: 0.5857 - acc: 0.8194 - val_loss: 0.3017 - val_acc: 0.9126\n",
      "10000/10000 [==============================] - 7s 748us/step\n",
      "[0.28202119937986136, 0.9195]\n"
     ]
    },
    {
     "data": {
      "image/png": "[encoded data removed]",
      "text/plain": [
       "<Figure size 432x288 with 1 Axes>"
      ]
     },
     "metadata": {
      "needs_background": "light"
     },
     "output_type": "display_data"
    }
   ],
   "source": [
    "model = init_model_regulate_Drop(0.7)\n",
    "history = LossHistory()\n",
    "model.fit(minibatch_train_X, minibatch_train_Y, epochs=20, batch_size=256,\n",
    "                callbacks=[history],\n",
    "                validation_data=(minibatch_valid_X, minibatch_valid_Y), verbose=2)\n",
    "score = model.evaluate(test_X, test_Y, batch_size=16)\n",
    "print(score)\n",
    "plot_losses(history.losses)"
   ]
  },
  {
   "cell_type": "code",
   "execution_count": 37,
   "metadata": {},
   "outputs": [
    {
     "name": "stdout",
     "output_type": "stream",
     "text": [
      "Train on 10000 samples, validate on 10000 samples\n",
      "Epoch 1/20\n",
      " - 27s - loss: 2.2444 - acc: 0.2151 - val_loss: 2.1498 - val_acc: 0.4416\n",
      "Epoch 2/20\n",
      " - 22s - loss: 2.0088 - acc: 0.4039 - val_loss: 1.6899 - val_acc: 0.6304\n",
      "Epoch 3/20\n",
      " - 23s - loss: 1.4411 - acc: 0.5833 - val_loss: 0.9600 - val_acc: 0.7668\n",
      "Epoch 4/20\n",
      " - 25s - loss: 0.9799 - acc: 0.6953 - val_loss: 0.6144 - val_acc: 0.8447\n",
      "Epoch 5/20\n",
      " - 23s - loss: 0.7919 - acc: 0.7477 - val_loss: 0.5551 - val_acc: 0.8570\n",
      "Epoch 6/20\n",
      " - 23s - loss: 0.6915 - acc: 0.7816 - val_loss: 0.4873 - val_acc: 0.8499\n",
      "Epoch 7/20\n",
      " - 23s - loss: 0.6406 - acc: 0.7962 - val_loss: 0.4550 - val_acc: 0.8611\n",
      "Epoch 8/20\n",
      " - 23s - loss: 0.5951 - acc: 0.8145 - val_loss: 0.4526 - val_acc: 0.8600\n",
      "Epoch 9/20\n",
      " - 23s - loss: 0.5642 - acc: 0.8253 - val_loss: 0.4360 - val_acc: 0.8690\n",
      "Epoch 10/20\n",
      " - 22s - loss: 0.5375 - acc: 0.8324 - val_loss: 0.3601 - val_acc: 0.8949\n",
      "Epoch 11/20\n",
      " - 24s - loss: 0.5123 - acc: 0.8437 - val_loss: 0.3524 - val_acc: 0.8938\n",
      "Epoch 12/20\n",
      " - 23s - loss: 0.4815 - acc: 0.8498 - val_loss: 0.3316 - val_acc: 0.9045\n",
      "Epoch 13/20\n",
      " - 23s - loss: 0.4703 - acc: 0.8569 - val_loss: 0.3229 - val_acc: 0.9042\n",
      "Epoch 14/20\n",
      " - 23s - loss: 0.4621 - acc: 0.8560 - val_loss: 0.3206 - val_acc: 0.9030\n",
      "Epoch 15/20\n",
      " - 23s - loss: 0.4376 - acc: 0.8616 - val_loss: 0.3122 - val_acc: 0.9068\n",
      "Epoch 16/20\n",
      " - 23s - loss: 0.4425 - acc: 0.8640 - val_loss: 0.2913 - val_acc: 0.9144\n",
      "Epoch 17/20\n",
      " - 23s - loss: 0.4182 - acc: 0.8711 - val_loss: 0.2970 - val_acc: 0.9079\n",
      "Epoch 18/20\n",
      " - 22s - loss: 0.4130 - acc: 0.8724 - val_loss: 0.2835 - val_acc: 0.9160\n",
      "Epoch 19/20\n",
      " - 23s - loss: 0.4011 - acc: 0.8755 - val_loss: 0.2690 - val_acc: 0.9236\n",
      "Epoch 20/20\n",
      " - 22s - loss: 0.4001 - acc: 0.8743 - val_loss: 0.3383 - val_acc: 0.8854\n",
      "10000/10000 [==============================] - 7s 750us/step\n",
      "[0.3138658368714154, 0.8923]\n"
     ]
    },
    {
     "data": {
      "image/png": "[encoded data removed]",
      "text/plain": [
       "<Figure size 432x288 with 1 Axes>"
      ]
     },
     "metadata": {
      "needs_background": "light"
     },
     "output_type": "display_data"
    }
   ],
   "source": [
    "model = init_model_regulate_Drop(0.5)\n",
    "history = LossHistory()\n",
    "model.fit(minibatch_train_X, minibatch_train_Y, epochs=20, batch_size=256,\n",
    "                callbacks=[history],\n",
    "                validation_data=(minibatch_valid_X, minibatch_valid_Y), verbose=2)\n",
    "score = model.evaluate(test_X, test_Y, batch_size=16)\n",
    "print(score)\n",
    "plot_losses(history.losses)"
   ]
  },
  {
   "cell_type": "markdown",
   "metadata": {},
   "source": [
    "Higher dropout rate i.e. lower keep probability provided us with slightly better results. But the dropout rate shouldn't be increased too much or decreased to very low values as that may result in poor performance. Dropout rate of 0 is a normal feed forward neural network and dropout rate of 1 means no parameters are available. So a balanced rate should be selected."
   ]
  },
  {
   "cell_type": "markdown",
   "metadata": {},
   "source": [
    "Here the L2 parameter regularization is used"
   ]
  },
  {
   "cell_type": "code",
   "execution_count": 35,
   "metadata": {},
   "outputs": [],
   "source": [
    "def init_model_regulate_L2(lambda1):\n",
    "    model = Sequential()\n",
    "    model.add(Conv2D(32, kernel_size=(3, 3),\n",
    "                    activation='relu',\n",
    "                    input_shape=(28, 28, 1)))\n",
    "    model.add(Conv2D(64, (3, 3), activation='relu'))\n",
    "    model.add(MaxPooling2D(pool_size=(2, 2)))\n",
    "    model.add(Flatten())\n",
    "    model.add(Dense(128, activation='relu', kernel_regularizer=keras.regularizers.l2(lambda1)))\n",
    "    model.add(Dense(10, activation='softmax'))\n",
    "\n",
    "    model.compile(loss=keras.losses.categorical_crossentropy,\n",
    "                  optimizer = keras.optimizers.SGD(lr=0.01, momentum=0.0, nesterov=False),\n",
    "              metrics=['accuracy'])\n",
    "    return model"
   ]
  },
  {
   "cell_type": "code",
   "execution_count": 36,
   "metadata": {},
   "outputs": [
    {
     "name": "stdout",
     "output_type": "stream",
     "text": [
      "Train on 10000 samples, validate on 10000 samples\n",
      "Epoch 1/20\n",
      " - 27s - loss: 101.4359 - acc: 0.3284 - val_loss: 59.8190 - val_acc: 0.4958\n",
      "Epoch 2/20\n",
      " - 25s - loss: 39.8417 - acc: 0.6157 - val_loss: 23.8546 - val_acc: 0.5522\n",
      "Epoch 3/20\n",
      " - 25s - loss: 15.9397 - acc: 0.7408 - val_loss: 9.6722 - val_acc: 0.6998\n",
      "Epoch 4/20\n",
      " - 24s - loss: 6.5273 - acc: 0.8122 - val_loss: 4.3205 - val_acc: 0.6844\n",
      "Epoch 5/20\n",
      " - 24s - loss: 3.0365 - acc: 0.8074 - val_loss: 3.0121 - val_acc: 0.5482\n",
      "Epoch 6/20\n",
      " - 25s - loss: 1.7557 - acc: 0.7922 - val_loss: 1.8017 - val_acc: 0.6475\n",
      "Epoch 7/20\n",
      " - 25s - loss: 1.1957 - acc: 0.8194 - val_loss: 1.1419 - val_acc: 0.7675\n",
      "Epoch 8/20\n",
      " - 25s - loss: 0.9855 - acc: 0.8069 - val_loss: 1.0256 - val_acc: 0.7695\n",
      "Epoch 9/20\n",
      " - 25s - loss: 0.9362 - acc: 0.8074 - val_loss: 1.2864 - val_acc: 0.6704\n",
      "Epoch 10/20\n",
      " - 25s - loss: 0.9400 - acc: 0.8014 - val_loss: 1.7535 - val_acc: 0.4845\n",
      "Epoch 11/20\n",
      " - 25s - loss: 0.8892 - acc: 0.8184 - val_loss: 1.3835 - val_acc: 0.6439\n",
      "Epoch 12/20\n",
      " - 25s - loss: 0.8832 - acc: 0.8122 - val_loss: 3.6911 - val_acc: 0.2568\n",
      "Epoch 13/20\n",
      " - 25s - loss: 1.1153 - acc: 0.7907 - val_loss: 1.1694 - val_acc: 0.7238\n",
      "Epoch 14/20\n",
      " - 25s - loss: 0.8649 - acc: 0.8171 - val_loss: 2.6631 - val_acc: 0.4369\n",
      "Epoch 15/20\n",
      " - 24s - loss: 0.9241 - acc: 0.8121 - val_loss: 1.2110 - val_acc: 0.6923\n",
      "Epoch 16/20\n",
      " - 25s - loss: 0.8745 - acc: 0.8239 - val_loss: 1.1044 - val_acc: 0.7215\n",
      "Epoch 17/20\n",
      " - 25s - loss: 0.8801 - acc: 0.8091 - val_loss: 2.0775 - val_acc: 0.4026\n",
      "Epoch 18/20\n",
      " - 25s - loss: 0.8662 - acc: 0.8258 - val_loss: 1.5257 - val_acc: 0.5610\n",
      "Epoch 19/20\n",
      " - 25s - loss: 0.9306 - acc: 0.8090 - val_loss: 1.3209 - val_acc: 0.6258\n",
      "Epoch 20/20\n",
      " - 25s - loss: 0.8208 - acc: 0.8256 - val_loss: 0.6416 - val_acc: 0.8799\n",
      "10000/10000 [==============================] - 8s 831us/step\n",
      "[0.6188720562458039, 0.8882]\n"
     ]
    },
    {
     "data": {
      "image/png": "[encoded data removed]",
      "text/plain": [
       "<Figure size 432x288 with 1 Axes>"
      ]
     },
     "metadata": {
      "needs_background": "light"
     },
     "output_type": "display_data"
    }
   ],
   "source": [
    "model = init_model_regulate_L2(0.6)\n",
    "history = LossHistory()\n",
    "model.fit(minibatch_train_X, minibatch_train_Y, epochs=20, batch_size=256,\n",
    "                callbacks=[history],\n",
    "                validation_data=(minibatch_valid_X, minibatch_valid_Y), verbose=2)\n",
    "score = model.evaluate(test_X, test_Y, batch_size=16)\n",
    "print(score)\n",
    "plot_losses(history.losses)"
   ]
  },
  {
   "cell_type": "code",
   "execution_count": 38,
   "metadata": {},
   "outputs": [
    {
     "name": "stdout",
     "output_type": "stream",
     "text": [
      "Train on 10000 samples, validate on 10000 samples\n",
      "Epoch 1/20\n",
      " - 28s - loss: 4.7520 - acc: 0.3560 - val_loss: 4.6611 - val_acc: 0.4974\n",
      "Epoch 2/20\n",
      " - 25s - loss: 4.4717 - acc: 0.6575 - val_loss: 4.1174 - val_acc: 0.7318\n",
      "Epoch 3/20\n",
      " - 24s - loss: 3.5804 - acc: 0.7846 - val_loss: 3.2202 - val_acc: 0.7465\n",
      "Epoch 4/20\n",
      " - 25s - loss: 2.9876 - acc: 0.8466 - val_loss: 2.9598 - val_acc: 0.8296\n",
      "Epoch 5/20\n",
      " - 25s - loss: 2.8226 - acc: 0.8705 - val_loss: 2.9491 - val_acc: 0.7922\n",
      "Epoch 6/20\n",
      " - 25s - loss: 2.7382 - acc: 0.8770 - val_loss: 3.0966 - val_acc: 0.7461\n",
      "Epoch 7/20\n",
      " - 25s - loss: 2.6826 - acc: 0.8822 - val_loss: 2.7126 - val_acc: 0.8607\n",
      "Epoch 8/20\n",
      " - 24s - loss: 2.6172 - acc: 0.8915 - val_loss: 2.6012 - val_acc: 0.8893\n",
      "Epoch 9/20\n",
      " - 25s - loss: 2.5581 - acc: 0.9009 - val_loss: 2.6765 - val_acc: 0.8426\n",
      "Epoch 10/20\n",
      " - 25s - loss: 2.5161 - acc: 0.9007 - val_loss: 2.5060 - val_acc: 0.8971\n",
      "Epoch 11/20\n",
      " - 25s - loss: 2.4653 - acc: 0.9088 - val_loss: 2.4733 - val_acc: 0.8961\n",
      "Epoch 12/20\n",
      " - 25s - loss: 2.4238 - acc: 0.9106 - val_loss: 2.6807 - val_acc: 0.7936\n",
      "Epoch 13/20\n",
      " - 24s - loss: 2.3991 - acc: 0.9054 - val_loss: 2.4086 - val_acc: 0.9010\n",
      "Epoch 14/20\n",
      " - 25s - loss: 2.3398 - acc: 0.9141 - val_loss: 2.8691 - val_acc: 0.7913\n",
      "Epoch 15/20\n",
      " - 24s - loss: 2.3233 - acc: 0.9110 - val_loss: 2.5803 - val_acc: 0.8010\n",
      "Epoch 16/20\n",
      " - 25s - loss: 2.2870 - acc: 0.9111 - val_loss: 2.3958 - val_acc: 0.8698\n",
      "Epoch 17/20\n",
      " - 25s - loss: 2.2263 - acc: 0.9209 - val_loss: 2.2312 - val_acc: 0.9142\n",
      "Epoch 18/20\n",
      " - 24s - loss: 2.1860 - acc: 0.9255 - val_loss: 2.3043 - val_acc: 0.8714\n",
      "Epoch 19/20\n",
      " - 25s - loss: 2.1521 - acc: 0.9261 - val_loss: 2.1575 - val_acc: 0.9170\n",
      "Epoch 20/20\n",
      " - 25s - loss: 2.1099 - acc: 0.9308 - val_loss: 2.7705 - val_acc: 0.7235\n",
      "10000/10000 [==============================] - 8s 842us/step\n",
      "[2.7709060041427613, 0.7209]\n"
     ]
    },
    {
     "data": {
      "image/png": "[encoded data removed]",
      "text/plain": [
       "<Figure size 432x288 with 1 Axes>"
      ]
     },
     "metadata": {
      "needs_background": "light"
     },
     "output_type": "display_data"
    }
   ],
   "source": [
    "model = init_model_regulate_L2(0.01)\n",
    "history = LossHistory()\n",
    "model.fit(minibatch_train_X, minibatch_train_Y, epochs=20, batch_size=256,\n",
    "                callbacks=[history],\n",
    "                validation_data=(minibatch_valid_X, minibatch_valid_Y), verbose=2)\n",
    "score = model.evaluate(test_X, test_Y, batch_size=16)\n",
    "print(score)\n",
    "plot_losses(history.losses)"
   ]
  },
  {
   "cell_type": "markdown",
   "metadata": {},
   "source": [
    "We find that L2 performs much better with a higher value of lambda(0.6) rather than a lower value(0.01). The accuracy decreased from almost 88% to 77%"
   ]
  },
  {
   "cell_type": "markdown",
   "metadata": {},
   "source": [
    "# Hyperparameters"
   ]
  },
  {
   "cell_type": "markdown",
   "metadata": {},
   "source": [
    "Here I have checked the model for various learning rate, beta1 and beta2."
   ]
  },
  {
   "cell_type": "code",
   "execution_count": 39,
   "metadata": {},
   "outputs": [],
   "source": [
    "def init_model_hyper(alpha, beta1, beta2):\n",
    "    model = Sequential()\n",
    "    model.add(Conv2D(32, kernel_size=(3, 3),\n",
    "                    activation='relu',\n",
    "                    input_shape=(28, 28, 1)))\n",
    "    model.add(Conv2D(64, (3, 3), activation='relu'))\n",
    "    model.add(MaxPooling2D(pool_size=(2, 2)))\n",
    "    model.add(Dropout(0.25))\n",
    "    model.add(Flatten())\n",
    "    model.add(Dense(128, activation='relu', kernel_regularizer=None))\n",
    "    model.add(Dropout(0.5))\n",
    "    model.add(Dense(10, activation='softmax'))\n",
    "\n",
    "    model.compile(loss=keras.losses.categorical_crossentropy,\n",
    "              optimizer=keras.optimizers.Adam(lr=alpha, beta_1=beta1, beta_2=beta2, amsgrad=False),\n",
    "              metrics=['accuracy'])\n",
    "    return model"
   ]
  },
  {
   "cell_type": "code",
   "execution_count": 40,
   "metadata": {},
   "outputs": [
    {
     "name": "stdout",
     "output_type": "stream",
     "text": [
      "Train on 10000 samples, validate on 10000 samples\n",
      "Epoch 1/20\n",
      " - 28s - loss: 0.6580 - acc: 0.8004 - val_loss: 0.1411 - val_acc: 0.9591\n",
      "Epoch 2/20\n",
      " - 27s - loss: 0.1799 - acc: 0.9445 - val_loss: 0.0966 - val_acc: 0.9707\n",
      "Epoch 3/20\n",
      " - 27s - loss: 0.1301 - acc: 0.9589 - val_loss: 0.1205 - val_acc: 0.9633\n",
      "Epoch 4/20\n",
      " - 26s - loss: 0.1044 - acc: 0.9686 - val_loss: 0.0729 - val_acc: 0.9777\n",
      "Epoch 5/20\n",
      " - 25s - loss: 0.1025 - acc: 0.9672 - val_loss: 0.0826 - val_acc: 0.9755\n",
      "Epoch 6/20\n",
      " - 26s - loss: 0.0863 - acc: 0.9734 - val_loss: 0.0721 - val_acc: 0.9790\n",
      "Epoch 7/20\n",
      " - 26s - loss: 0.0664 - acc: 0.9785 - val_loss: 0.0688 - val_acc: 0.9801\n",
      "Epoch 8/20\n",
      " - 26s - loss: 0.0607 - acc: 0.9799 - val_loss: 0.0773 - val_acc: 0.9797\n",
      "Epoch 9/20\n",
      " - 26s - loss: 0.0527 - acc: 0.9832 - val_loss: 0.0671 - val_acc: 0.9812\n",
      "Epoch 10/20\n",
      " - 26s - loss: 0.0481 - acc: 0.9832 - val_loss: 0.0629 - val_acc: 0.9831\n",
      "Epoch 11/20\n",
      " - 26s - loss: 0.0585 - acc: 0.9820 - val_loss: 0.0741 - val_acc: 0.9827\n",
      "Epoch 12/20\n",
      " - 26s - loss: 0.0667 - acc: 0.9798 - val_loss: 0.0894 - val_acc: 0.9773\n",
      "Epoch 13/20\n",
      " - 26s - loss: 0.0669 - acc: 0.9788 - val_loss: 0.0702 - val_acc: 0.9819\n",
      "Epoch 14/20\n",
      " - 26s - loss: 0.0454 - acc: 0.9847 - val_loss: 0.0695 - val_acc: 0.9826\n",
      "Epoch 15/20\n",
      " - 26s - loss: 0.0382 - acc: 0.9879 - val_loss: 0.0764 - val_acc: 0.9814\n",
      "Epoch 16/20\n",
      " - 26s - loss: 0.0358 - acc: 0.9883 - val_loss: 0.0777 - val_acc: 0.9824\n",
      "Epoch 17/20\n",
      " - 28s - loss: 0.0464 - acc: 0.9848 - val_loss: 0.0737 - val_acc: 0.9810\n",
      "Epoch 18/20\n",
      " - 26s - loss: 0.0415 - acc: 0.9857 - val_loss: 0.0758 - val_acc: 0.9818\n",
      "Epoch 19/20\n",
      " - 25s - loss: 0.0530 - acc: 0.9827 - val_loss: 0.0939 - val_acc: 0.9769\n",
      "Epoch 20/20\n",
      " - 26s - loss: 0.0552 - acc: 0.9821 - val_loss: 0.0656 - val_acc: 0.9828\n",
      "10000/10000 [==============================] - 8s 778us/step\n",
      "[0.056827539983253385, 0.9834]\n"
     ]
    },
    {
     "data": {
      "image/png": "[encoded data removed]",
      "text/plain": [
       "<Figure size 432x288 with 1 Axes>"
      ]
     },
     "metadata": {
      "needs_background": "light"
     },
     "output_type": "display_data"
    }
   ],
   "source": [
    "model = init_model_hyper(0.01, 0.9, 0.999)\n",
    "history = LossHistory()\n",
    "model.fit(minibatch_train_X, minibatch_train_Y, epochs=20, batch_size=256,\n",
    "                callbacks=[history],\n",
    "                validation_data=(minibatch_valid_X, minibatch_valid_Y), verbose=2)\n",
    "score = model.evaluate(test_X, test_Y, batch_size=16)\n",
    "print(score)\n",
    "plot_losses(history.losses)"
   ]
  },
  {
   "cell_type": "code",
   "execution_count": 41,
   "metadata": {},
   "outputs": [
    {
     "name": "stdout",
     "output_type": "stream",
     "text": [
      "Train on 10000 samples, validate on 10000 samples\n",
      "Epoch 1/20\n",
      " - 28s - loss: 14.2368 - acc: 0.0976 - val_loss: 14.5643 - val_acc: 0.0964\n",
      "Epoch 2/20\n",
      " - 27s - loss: 14.5289 - acc: 0.0986 - val_loss: 14.5643 - val_acc: 0.0964\n",
      "Epoch 3/20\n",
      " - 26s - loss: 14.4918 - acc: 0.1009 - val_loss: 14.5643 - val_acc: 0.0964\n",
      "Epoch 4/20\n",
      " - 25s - loss: 14.6127 - acc: 0.0934 - val_loss: 14.5643 - val_acc: 0.0964\n",
      "Epoch 5/20\n",
      " - 26s - loss: 14.5804 - acc: 0.0954 - val_loss: 14.5643 - val_acc: 0.0964\n",
      "Epoch 6/20\n",
      " - 26s - loss: 14.5966 - acc: 0.0944 - val_loss: 14.5643 - val_acc: 0.0964\n",
      "Epoch 7/20\n",
      " - 26s - loss: 14.5869 - acc: 0.0950 - val_loss: 14.5643 - val_acc: 0.0964\n",
      "Epoch 8/20\n",
      " - 25s - loss: 14.5595 - acc: 0.0967 - val_loss: 14.5643 - val_acc: 0.0964\n",
      "Epoch 9/20\n",
      " - 26s - loss: 14.5224 - acc: 0.0990 - val_loss: 14.5643 - val_acc: 0.0964\n",
      "Epoch 10/20\n",
      " - 25s - loss: 14.5627 - acc: 0.0965 - val_loss: 14.5643 - val_acc: 0.0964\n",
      "Epoch 11/20\n",
      " - 25s - loss: 14.5804 - acc: 0.0954 - val_loss: 14.5643 - val_acc: 0.0964\n",
      "Epoch 12/20\n",
      " - 26s - loss: 14.4982 - acc: 0.1005 - val_loss: 14.5643 - val_acc: 0.0964\n",
      "Epoch 13/20\n",
      " - 25s - loss: 14.5772 - acc: 0.0956 - val_loss: 14.5643 - val_acc: 0.0964\n",
      "Epoch 14/20\n",
      " - 26s - loss: 14.5724 - acc: 0.0959 - val_loss: 14.5643 - val_acc: 0.0964\n",
      "Epoch 15/20\n",
      " - 26s - loss: 14.5949 - acc: 0.0945 - val_loss: 14.5643 - val_acc: 0.0964\n",
      "Epoch 16/20\n",
      " - 25s - loss: 14.5933 - acc: 0.0946 - val_loss: 14.5643 - val_acc: 0.0964\n",
      "Epoch 17/20\n",
      " - 25s - loss: 14.5546 - acc: 0.0970 - val_loss: 14.5643 - val_acc: 0.0964\n",
      "Epoch 18/20\n",
      " - 26s - loss: 14.5885 - acc: 0.0949 - val_loss: 14.5643 - val_acc: 0.0964\n",
      "Epoch 19/20\n",
      " - 24s - loss: 14.6240 - acc: 0.0927 - val_loss: 14.5643 - val_acc: 0.0964\n",
      "Epoch 20/20\n",
      " - 25s - loss: 14.5160 - acc: 0.0994 - val_loss: 14.5643 - val_acc: 0.0964\n",
      "10000/10000 [==============================] - 8s 765us/step\n",
      "[14.548192784118653, 0.0974]\n"
     ]
    },
    {
     "data": {
      "image/png": "[encoded data removed]",
      "text/plain": [
       "<Figure size 432x288 with 1 Axes>"
      ]
     },
     "metadata": {
      "needs_background": "light"
     },
     "output_type": "display_data"
    }
   ],
   "source": [
    "model = init_model_hyper(0.8, 0.9, 0.999)\n",
    "history = LossHistory()\n",
    "model.fit(minibatch_train_X, minibatch_train_Y, epochs=20, batch_size=256,\n",
    "                callbacks=[history],\n",
    "                validation_data=(minibatch_valid_X, minibatch_valid_Y), verbose=2)\n",
    "score = model.evaluate(test_X, test_Y, batch_size=16)\n",
    "print(score)\n",
    "plot_losses(history.losses)"
   ]
  },
  {
   "cell_type": "code",
   "execution_count": 42,
   "metadata": {},
   "outputs": [
    {
     "name": "stdout",
     "output_type": "stream",
     "text": [
      "Train on 10000 samples, validate on 10000 samples\n",
      "Epoch 1/20\n",
      " - 29s - loss: 1.0851 - acc: 0.6862 - val_loss: 0.3521 - val_acc: 0.8799\n",
      "Epoch 2/20\n",
      " - 25s - loss: 0.2248 - acc: 0.9321 - val_loss: 0.1210 - val_acc: 0.9626\n",
      "Epoch 3/20\n",
      " - 22s - loss: 0.2523 - acc: 0.9264 - val_loss: 0.2450 - val_acc: 0.9281\n",
      "Epoch 4/20\n",
      " - 25s - loss: 0.1388 - acc: 0.9567 - val_loss: 0.1835 - val_acc: 0.9484\n",
      "Epoch 5/20\n",
      " - 27s - loss: 0.1053 - acc: 0.9660 - val_loss: 0.1260 - val_acc: 0.9669\n",
      "Epoch 6/20\n",
      " - 27s - loss: 0.0831 - acc: 0.9733 - val_loss: 0.0781 - val_acc: 0.9767\n",
      "Epoch 7/20\n",
      " - 27s - loss: 0.0726 - acc: 0.9773 - val_loss: 0.0717 - val_acc: 0.9786\n",
      "Epoch 8/20\n",
      " - 26s - loss: 0.0605 - acc: 0.9810 - val_loss: 0.0795 - val_acc: 0.9794\n",
      "Epoch 9/20\n",
      " - 27s - loss: 0.0540 - acc: 0.9801 - val_loss: 0.0745 - val_acc: 0.9812\n",
      "Epoch 10/20\n",
      " - 27s - loss: 0.0486 - acc: 0.9835 - val_loss: 0.0908 - val_acc: 0.9785\n",
      "Epoch 11/20\n",
      " - 25s - loss: 0.0649 - acc: 0.9788 - val_loss: 0.0804 - val_acc: 0.9801\n",
      "Epoch 12/20\n",
      " - 26s - loss: 0.0395 - acc: 0.9859 - val_loss: 0.2971 - val_acc: 0.9461\n",
      "Epoch 13/20\n",
      " - 26s - loss: 10.5982 - acc: 0.3329 - val_loss: 8.8683 - val_acc: 0.4461\n",
      "Epoch 14/20\n",
      " - 25s - loss: 9.4270 - acc: 0.4134 - val_loss: 9.8376 - val_acc: 0.3887\n",
      "Epoch 15/20\n",
      " - 25s - loss: 7.4926 - acc: 0.5332 - val_loss: 4.8287 - val_acc: 0.6975\n",
      "Epoch 16/20\n",
      " - 25s - loss: 5.3963 - acc: 0.6629 - val_loss: 4.3103 - val_acc: 0.7308\n",
      "Epoch 17/20\n",
      " - 25s - loss: 4.7818 - acc: 0.7020 - val_loss: 3.9020 - val_acc: 0.7571\n",
      "Epoch 18/20\n",
      " - 26s - loss: 4.7505 - acc: 0.7035 - val_loss: 3.6151 - val_acc: 0.7736\n",
      "Epoch 19/20\n",
      " - 26s - loss: 4.0155 - acc: 0.7488 - val_loss: 6.0545 - val_acc: 0.6223\n",
      "Epoch 20/20\n",
      " - 25s - loss: 4.1418 - acc: 0.7413 - val_loss: 3.2126 - val_acc: 0.8002\n",
      "10000/10000 [==============================] - 7s 727us/step\n",
      "[3.2331545531272887, 0.7984]\n"
     ]
    },
    {
     "data": {
      "image/png": "[encoded data removed]",
      "text/plain": [
       "<Figure size 432x288 with 1 Axes>"
      ]
     },
     "metadata": {
      "needs_background": "light"
     },
     "output_type": "display_data"
    }
   ],
   "source": [
    "model = init_model_hyper(0.01, 0.01, 0.999)\n",
    "history = LossHistory()\n",
    "model.fit(minibatch_train_X, minibatch_train_Y, epochs=20, batch_size=256,\n",
    "                callbacks=[history],\n",
    "                validation_data=(minibatch_valid_X, minibatch_valid_Y), verbose=2)\n",
    "score = model.evaluate(test_X, test_Y, batch_size=16)\n",
    "print(score)\n",
    "plot_losses(history.losses)"
   ]
  },
  {
   "cell_type": "code",
   "execution_count": 43,
   "metadata": {},
   "outputs": [
    {
     "name": "stdout",
     "output_type": "stream",
     "text": [
      "Train on 10000 samples, validate on 10000 samples\n",
      "Epoch 1/20\n",
      " - 29s - loss: 5.5414 - acc: 0.4589 - val_loss: 14.2049 - val_acc: 0.1187\n",
      "Epoch 2/20\n",
      " - 26s - loss: 14.3999 - acc: 0.1066 - val_loss: 14.5401 - val_acc: 0.0979\n",
      "Epoch 3/20\n",
      " - 26s - loss: 14.4676 - acc: 0.1024 - val_loss: 14.5401 - val_acc: 0.0979\n",
      "Epoch 4/20\n",
      " - 26s - loss: 14.5095 - acc: 0.0998 - val_loss: 14.5401 - val_acc: 0.0979\n",
      "Epoch 5/20\n",
      " - 25s - loss: 14.3806 - acc: 0.1078 - val_loss: 14.5401 - val_acc: 0.0979\n",
      "Epoch 6/20\n",
      " - 26s - loss: 14.4757 - acc: 0.1019 - val_loss: 14.5401 - val_acc: 0.0979\n",
      "Epoch 7/20\n",
      " - 26s - loss: 14.4660 - acc: 0.1025 - val_loss: 14.5401 - val_acc: 0.0979\n",
      "Epoch 8/20\n",
      " - 26s - loss: 14.4660 - acc: 0.1025 - val_loss: 14.5401 - val_acc: 0.0979\n",
      "Epoch 9/20\n",
      " - 26s - loss: 14.5385 - acc: 0.0980 - val_loss: 14.5401 - val_acc: 0.0979\n",
      "Epoch 10/20\n",
      " - 27s - loss: 14.5095 - acc: 0.0998 - val_loss: 14.5401 - val_acc: 0.0979\n",
      "Epoch 11/20\n",
      " - 25s - loss: 14.5208 - acc: 0.0991 - val_loss: 14.5401 - val_acc: 0.0979\n",
      "Epoch 12/20\n",
      " - 25s - loss: 14.5659 - acc: 0.0963 - val_loss: 14.5401 - val_acc: 0.0979\n",
      "Epoch 13/20\n",
      " - 27s - loss: 14.4708 - acc: 0.1022 - val_loss: 14.5401 - val_acc: 0.0979\n",
      "Epoch 14/20\n",
      " - 26s - loss: 14.3935 - acc: 0.1070 - val_loss: 14.5401 - val_acc: 0.0979\n",
      "Epoch 15/20\n",
      " - 26s - loss: 14.4773 - acc: 0.1018 - val_loss: 14.5401 - val_acc: 0.0979\n",
      "Epoch 16/20\n",
      " - 26s - loss: 14.4257 - acc: 0.1050 - val_loss: 14.5401 - val_acc: 0.0979\n",
      "Epoch 17/20\n",
      " - 25s - loss: 14.4176 - acc: 0.1055 - val_loss: 14.5401 - val_acc: 0.0979\n",
      "Epoch 18/20\n",
      " - 26s - loss: 14.4628 - acc: 0.1027 - val_loss: 14.5401 - val_acc: 0.0979\n",
      "Epoch 19/20\n",
      " - 26s - loss: 14.5917 - acc: 0.0947 - val_loss: 14.5401 - val_acc: 0.0979\n",
      "Epoch 20/20\n",
      " - 26s - loss: 14.4628 - acc: 0.1027 - val_loss: 14.5401 - val_acc: 0.0979\n",
      "10000/10000 [==============================] - 8s 771us/step\n",
      "[14.538521948242188, 0.098]\n"
     ]
    },
    {
     "data": {
      "image/png": "[encoded data removed]",
      "text/plain": [
       "<Figure size 432x288 with 1 Axes>"
      ]
     },
     "metadata": {
      "needs_background": "light"
     },
     "output_type": "display_data"
    }
   ],
   "source": [
    "model = init_model_hyper(0.01, 0.9, 0.1)\n",
    "history = LossHistory()\n",
    "model.fit(minibatch_train_X, minibatch_train_Y, epochs=20, batch_size=256,\n",
    "                callbacks=[history],\n",
    "                validation_data=(minibatch_valid_X, minibatch_valid_Y), verbose=2)\n",
    "score = model.evaluate(test_X, test_Y, batch_size=16)\n",
    "print(score)\n",
    "plot_losses(history.losses)"
   ]
  },
  {
   "cell_type": "markdown",
   "metadata": {},
   "source": [
    "We found that increasing the learning rate too much made the model perform horribly. In the first case alpha was 0.01 and the accuracy of ~98% was achieved. High value of beta1 and beta2 is preferred. Low beta1 and high beta2 results in poor performance. Similar results for high beta1 and low beta 2. However, in general overfitting is not observed."
   ]
  },
  {
   "cell_type": "code",
   "execution_count": null,
   "metadata": {},
   "outputs": [],
   "source": []
  }
 ],
 "metadata": {
  "kernelspec": {
   "display_name": "Python 3",
   "language": "python",
   "name": "python3"
  },
  "language_info": {
   "codemirror_mode": {
    "name": "ipython",
    "version": 3
   },
   "file_extension": ".py",
   "mimetype": "text/x-python",
   "name": "python",
   "nbconvert_exporter": "python",
   "pygments_lexer": "ipython3",
   "version": "3.7.3"
  }
 },
 "nbformat": 4,
 "nbformat_minor": 2
}
