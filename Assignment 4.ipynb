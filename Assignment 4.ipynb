{
 "cells": [
  {
   "cell_type": "markdown",
   "metadata": {},
   "source": [
    "# Deep Neural Network on MNIST Data"
   ]
  },
  {
   "cell_type": "markdown",
   "metadata": {},
   "source": [
    "Run each cell in the notebook. The explanation of the cells are given on top respectively. Also, you need to have keras with tensorflow backend to load the dataset."
   ]
  },
  {
   "cell_type": "code",
   "execution_count": 260,
   "metadata": {},
   "outputs": [],
   "source": [
    "import numpy as np\n",
    "import random\n",
    "%matplotlib inline \n",
    "import matplotlib.pyplot as plt\n",
    "from sklearn.metrics import accuracy_score\n",
    "from sklearn.model_selection import train_test_split\n",
    "from keras_team.keras.datasets import mnist"
   ]
  },
  {
   "cell_type": "markdown",
   "metadata": {},
   "source": [
    "Downloading the Mnist data"
   ]
  },
  {
   "cell_type": "code",
   "execution_count": 285,
   "metadata": {},
   "outputs": [],
   "source": [
    "(x_train, y_train), (x_test, y_test) = mnist.load_data()"
   ]
  },
  {
   "cell_type": "markdown",
   "metadata": {},
   "source": [
    "Scaling the data so that values are between 0 and 1"
   ]
  },
  {
   "cell_type": "code",
   "execution_count": 286,
   "metadata": {},
   "outputs": [
    {
     "name": "stdout",
     "output_type": "stream",
     "text": [
      "(60000, 28, 28) (60000,)\n",
      "(10000, 28, 28) (10000,)\n"
     ]
    }
   ],
   "source": [
    "print(x_train.shape, y_train.shape)\n",
    "print(x_test.shape, y_test.shape)\n",
    "x_train = x_train/255\n",
    "x_test = x_test/255"
   ]
  },
  {
   "cell_type": "markdown",
   "metadata": {},
   "source": [
    "Creating the training and testing dataset alongwith setting the Y values to 0 or 1 depending on a condition. The condition here is last digit of VUNetId. My last digit is 1. So for the Y values of 1, new value is set to 1(true). Rest of them are set to 0(false). Also the 28x28 dataset is converted to a column vector 784x1."
   ]
  },
  {
   "cell_type": "code",
   "execution_count": 287,
   "metadata": {},
   "outputs": [],
   "source": [
    "X = x_train.reshape(60000, 784)  #Converting to column vector for each datapoint\n",
    "X1 = X.copy()\n",
    "Y = np.array(y_train == 1)\n",
    "Y = 1*Y    #Setting values to 1 or 0 for training\n",
    "\n",
    "test_X = x_test.reshape(10000,784)\n",
    "test_X = test_X.transpose()\n",
    "test_Y = np.array(y_test == 1)\n",
    "test_Y = 1*test_Y         # Setting values to 1 or 0 for test\n"
   ]
  },
  {
   "cell_type": "markdown",
   "metadata": {},
   "source": [
    "This is the forward propagation step of the hidden layer. Here W, b and the data is received as input. The operation W.X + b is performed after taking appropriate transpose. The final value is then passed through a ReLu or tanh function according to our wishes."
   ]
  },
  {
   "cell_type": "code",
   "execution_count": 288,
   "metadata": {},
   "outputs": [],
   "source": [
    "def forward_prop_hidden(W, b, data_X):\n",
    "    intermediate = np.dot(W, data_X)\n",
    "    Z = intermediate + b\n",
    "    A = relu(Z)\n",
    "    return A, Z"
   ]
  },
  {
   "cell_type": "markdown",
   "metadata": {},
   "source": [
    "This is the forward propagation step of the output layer. Here W, b and the data is received as input. The operation W.X + b is performed after taking appropriate transpose. The final value is then passed through a sigmoid function to make the value between 0 - 1"
   ]
  },
  {
   "cell_type": "code",
   "execution_count": 289,
   "metadata": {},
   "outputs": [],
   "source": [
    "def forward_prop_output(W, b, data_X):\n",
    "    intermediate = np.dot(W, data_X)\n",
    "    Z = intermediate + b\n",
    "    A = sigmoid(Z)\n",
    "    return A"
   ]
  },
  {
   "cell_type": "markdown",
   "metadata": {},
   "source": [
    "This is the backward propagation step. Here the required derivatives are calculated which will be later updated in further steps"
   ]
  },
  {
   "cell_type": "code",
   "execution_count": 290,
   "metadata": {},
   "outputs": [],
   "source": [
    "def backward_prop_1(A1, m, W2, dZ2, Z1, data_X):\n",
    "    dZ1 = np.dot(W2.T, dZ2) \n",
    "    dZ1 = dZ1* relu_derivative(Z1)\n",
    "    dW1 = np.dot(dZ1, data_X.T)/m\n",
    "    db1 = np.sum(dZ1, axis =1)/m\n",
    "    db1 = db1.reshape(-1, 1)\n",
    "    return dW1, db1, dZ1"
   ]
  },
  {
   "cell_type": "markdown",
   "metadata": {},
   "source": [
    "This is the backward propagation of output layer(Layer2)"
   ]
  },
  {
   "cell_type": "code",
   "execution_count": 291,
   "metadata": {},
   "outputs": [],
   "source": [
    "def backward_prop_2(A2, A1, m, data_Y):\n",
    "    dZ2 = A2 - data_Y\n",
    "    dW2 = np.dot(dZ2, A1.T)/m\n",
    "    db2 = np.sum(dZ2, axis =1)/m\n",
    "    db2 = db2.reshape(-1, 1)\n",
    "    return dW2, db2, dZ2"
   ]
  },
  {
   "cell_type": "markdown",
   "metadata": {},
   "source": [
    "This is the sigmoid activation function used to map any real value between 0 and 1"
   ]
  },
  {
   "cell_type": "code",
   "execution_count": 292,
   "metadata": {},
   "outputs": [],
   "source": [
    "def sigmoid(x):\n",
    "    return 1 / (1 + np.exp(-x))"
   ]
  },
  {
   "cell_type": "markdown",
   "metadata": {},
   "source": [
    "This is the Rectified Linear Unit(ReLU) activation function"
   ]
  },
  {
   "cell_type": "code",
   "execution_count": 293,
   "metadata": {},
   "outputs": [],
   "source": [
    "def relu(x):\n",
    "    return np.maximum(0,x)"
   ]
  },
  {
   "cell_type": "markdown",
   "metadata": {},
   "source": [
    "This is the derivative of the ReLU function"
   ]
  },
  {
   "cell_type": "code",
   "execution_count": 294,
   "metadata": {},
   "outputs": [],
   "source": [
    "def relu_derivative(x):\n",
    "    y = np.array(x > 0)\n",
    "    y = 1*y\n",
    "    return y"
   ]
  },
  {
   "cell_type": "markdown",
   "metadata": {},
   "source": [
    "This is the tanh activation function"
   ]
  },
  {
   "cell_type": "code",
   "execution_count": 295,
   "metadata": {},
   "outputs": [],
   "source": [
    "def tanh(x):\n",
    "    return np.tanh(x)"
   ]
  },
  {
   "cell_type": "markdown",
   "metadata": {},
   "source": [
    "This is the derivative of tanh function"
   ]
  },
  {
   "cell_type": "code",
   "execution_count": 296,
   "metadata": {},
   "outputs": [],
   "source": [
    "def tanh_derivative(x):\n",
    "    return 1/np.square(np.cosh(x))"
   ]
  },
  {
   "cell_type": "markdown",
   "metadata": {},
   "source": [
    "Computes the cost function for all the training samples"
   ]
  },
  {
   "cell_type": "code",
   "execution_count": 297,
   "metadata": {},
   "outputs": [],
   "source": [
    "def cost_function(A, m, data_Y):\n",
    "    total_cost = -(1 / m) * np.sum(data_Y * np.log(A) + (1 - data_Y) * np.log(1 - A))\n",
    "    return total_cost"
   ]
  },
  {
   "cell_type": "markdown",
   "metadata": {},
   "source": [
    "Here the results are predicted. The W and b of model are taken as input. The values are predicted using test dataset and then using the actual values the accuracy is computed"
   ]
  },
  {
   "cell_type": "code",
   "execution_count": 305,
   "metadata": {},
   "outputs": [],
   "source": [
    "def results(W, b, data_X, data_Y):\n",
    "    A1 = data_X\n",
    "    for k in range(l-2):\n",
    "        A1, Z1 = forward_prop_hidden(W[k], b[k], A1)        \n",
    "    A2 =  forward_prop_output(W[l-2], b[l-2], A1)   \n",
    "    pred_Y = A2.transpose()\n",
    "    pred_Y = np.around(pred_Y, decimals = 0)   #Rounding off the predicted value to 0 or 1\n",
    "    accuracy = accuracy_score(data_Y, pred_Y)\n",
    "    return accuracy"
   ]
  },
  {
   "cell_type": "markdown",
   "metadata": {},
   "source": [
    "Here we construct the layout of our neural network. The h array contains the number of hidden units in each layer and the value l indicates the total no of layers."
   ]
  },
  {
   "cell_type": "code",
   "execution_count": 306,
   "metadata": {},
   "outputs": [],
   "source": [
    "h = [784, 20, 5, 1]     #hidden units\n",
    "l = 4               #total no of layers"
   ]
  },
  {
   "cell_type": "raw",
   "metadata": {},
   "source": [
    "This is the neural network function. First we split the training data into training and validation sets. Then we initialize W and b with random numbers. After that using W, b and the training data we implement the forward propagation. Using the results we calculate the derivatives for the backward propagation step. After that we update our b and W using the derivative values obtained. We then test this using the validation data. We store the alpha for which accuracy was the highest. We also check with different number of hidden units which can be set from the variable h. One can note that since the number of hidden layers and the number of units in each hidden layer are hyperparameters and can be set from the previous cell. We call our functions on each set of W and b. The running time to compute/train the network is proportional to the number of hidden units and layers. "
   ]
  },
  {
   "cell_type": "code",
   "execution_count": 276,
   "metadata": {},
   "outputs": [
    {
     "name": "stdout",
     "output_type": "stream",
     "text": [
      "Epoch: 0\n",
      "Epoch: 500\n",
      "Epoch: 1000\n",
      "Alpha: 0.0001 Accuracy: 0.8880833333333333\n",
      "Epoch: 0\n",
      "Epoch: 500\n",
      "Epoch: 1000\n",
      "Alpha: 0.001 Accuracy: 0.8861666666666667\n",
      "Epoch: 0\n",
      "Epoch: 500\n",
      "Epoch: 1000\n",
      "Alpha: 0.005 Accuracy: 0.88825\n",
      "Epoch: 0\n",
      "Epoch: 500\n",
      "Epoch: 1000\n",
      "Alpha: 0.01 Accuracy: 0.889\n",
      "Epoch: 0\n",
      "Epoch: 500\n",
      "Epoch: 1000\n",
      "Alpha: 0.1 Accuracy: 0.991\n",
      "Epoch: 0\n",
      "Epoch: 500\n",
      "Epoch: 1000\n",
      "Alpha: 0.05 Accuracy: 0.988\n",
      "Epoch: 0\n",
      "Epoch: 500\n",
      "Epoch: 1000\n",
      "Alpha: 0.5 Accuracy: 0.9946666666666667\n",
      "Max: 0.5\n"
     ]
    }
   ],
   "source": [
    "def neural_net():    \n",
    "    alpha = [0.0001, 0.001, 0.005, 0.01, 0.1, 0.05, 0.5]   #set of learning rates to check from\n",
    "    \n",
    "    epochs = 1001\n",
    "    max_cost = 0\n",
    "    max_accuracy = 0\n",
    "    alpha_max = 0\n",
    "            \n",
    "    for i in range(len(alpha)):\n",
    "        train_X, valid_X, train_Y, valid_Y = train_test_split(X, Y, test_size=0.2) # Splitting training data using 80:20 rule\n",
    "        valid_X = valid_X.transpose()\n",
    "        train_X = train_X.transpose()\n",
    "        n, m = train_X.shape\n",
    "        W = [None]*(l-1)\n",
    "        b = [None]*(l-1)\n",
    "        A = [None]*(l)\n",
    "        dW = [None]*(l-1)\n",
    "        db = [None]*(l-1)\n",
    "        dZ = [None]*(l-1)\n",
    "        Z = [None]*(l)\n",
    "        A[0] = train_X\n",
    "        for k in range(l-1):\n",
    "            W[k] = np.random.rand(h[k+1],h[k])*0.01     #Initializing W and b\n",
    "            b[k] = np.random.rand(h[k+1],1)*0.01\n",
    "        for j in range(epochs):\n",
    "            if(j%500 == 0):\n",
    "                print('Epoch:', j)\n",
    "            \n",
    "            for k in range(l-2):\n",
    "                A[k+1], Z[k+1] = forward_prop_hidden(W[k], b[k], A[k])         #forward propagation through hidden layer\n",
    "            \n",
    "            A[l-1] =  forward_prop_output(W[l-2], b[l-2], A[l-2])     #forward propagation through output layer         \n",
    "            \n",
    "            (dW[l-2], db[l-2], dZ[l-2]) = backward_prop_2(A[l-1], A[l-2], m, train_Y)  #backpropagation through output layer                            \n",
    "            for k in reversed(range(l-2)):\n",
    "                (dW[k], db[k], dZ[k]) = backward_prop_1(A[k+1], m, W[k+1], dZ[k+1], Z[k+1], A[k]) #backpropagation through hidden layer\n",
    "                \n",
    "            for k in range(l-1):\n",
    "                W[k] = W[k] - alpha[i]*dW[k]\n",
    "                b[k] = b[k] - alpha[i]*db[k] \n",
    "            \n",
    "        accuracy = results(W, b, valid_X, valid_Y)   #testing the accuracy using validation set\n",
    "        if(accuracy >= max_accuracy):\n",
    "            alpha_max = alpha[i]                     #finding the alpha for which accuracy was the maximum\n",
    "            max_accuracy = accuracy\n",
    "        print('Alpha:',alpha[i],'Accuracy:', accuracy)\n",
    "    print( 'Max:',alpha_max)\n",
    "    return alpha_max\n",
    "alpha_max = neural_net()"
   ]
  },
  {
   "cell_type": "markdown",
   "metadata": {},
   "source": [
    "Here, we calculate the cost function for each iteration using the learning rate which we had obtained earlier. We run this on the entire training set. After obatining values of W and b, we calculate the training and test error. One thing to mention here is that on Assignment 3, we had one hidden layer and I had 5 units in that layer to obtain a accuracy of ~98%. Here, I set the hyperparameters to those values and verified that my network gives an accuracy of ~97-98% here also. This helped in verifying the network I built."
   ]
  },
  {
   "cell_type": "code",
   "execution_count": 308,
   "metadata": {},
   "outputs": [
    {
     "name": "stdout",
     "output_type": "stream",
     "text": [
      "Epoch: 0\n",
      "Epoch: 500\n",
      "Epoch: 1000\n",
      "Epoch: 1500\n",
      "Epoch: 2000\n",
      "Training error: 0.23666666666666458 %\n",
      "Test error: 0.39000000000000057 %\n"
     ]
    }
   ],
   "source": [
    "X = X.transpose()\n",
    "n, m = X.shape\n",
    "\n",
    "W = [None]*(l-1)\n",
    "b = [None]*(l-1)\n",
    "A = [None]*(l)\n",
    "dW = [None]*(l-1)\n",
    "db = [None]*(l-1)\n",
    "dZ = [None]*(l-1)\n",
    "Z = [None]*(l)\n",
    "A[0] = X\n",
    "\n",
    "epochs = 2001\n",
    "cost_array = []\n",
    "J_arr =[]\n",
    "count = 0\n",
    "for k in range(l-1):\n",
    "    W[k] = np.random.rand(h[k+1],h[k])*0.01     #Initializing W and b\n",
    "    b[k] = np.random.rand(h[k+1], 1)*0.01\n",
    "for j in range(epochs):\n",
    "    if(j%500 == 0):\n",
    "        print('Epoch:', j)\n",
    "    for k in range(l-2):\n",
    "        A[k+1], Z[k+1] = forward_prop_hidden(W[k], b[k], A[k])         #forward propagation through hidden layer  \n",
    "    A[l-1] =  forward_prop_output(W[l-2], b[l-2], A[l-2])     #forward propagation through output layer         \n",
    "\n",
    "    (dW[l-2], db[l-2], dZ[l-2]) = backward_prop_2(A[l-1], A[l-2], m, Y)  #backpropagation through output layer\n",
    "    for k in reversed(range(l-2)):\n",
    "        (dW[k], db[k], dZ[k]) = backward_prop_1(A[k+1], m, W[k+1], dZ[k+1], Z[k+1], A[k]) #backpropagation through hidden layer\n",
    "\n",
    "    for k in range(l-1):\n",
    "        W[k] = W[k] - alpha_max*dW[k]\n",
    "        b[k] = b[k] - alpha_max*db[k]       #Updating b and W\n",
    "\n",
    "    total_cost = cost_function(A[l-1], m, Y)\n",
    "    cost_array.append(total_cost)    # Storing the value of cost function\n",
    "    J_arr.append(count)\n",
    "    count+= 1\n",
    "    \n",
    "final_accuracy_test = results(W, b, test_X, test_Y)*100    # Calculating the training and test accuracy\n",
    "final_accuracy_train = results(W, b, X1.transpose(), Y)*100\n",
    "print('Training error:', str(100-final_accuracy_train),'%')\n",
    "print('Test error:', str(100-final_accuracy_test),'%')"
   ]
  },
  {
   "cell_type": "markdown",
   "metadata": {},
   "source": [
    "Plotting the cost function as a function of the iterations. We can see that the cost function decreases very fast initially but after a certain number of iterations the rate of decrease is much less which indicates that our neural network is  converging hence the error is reducing asymptotically."
   ]
  },
  {
   "cell_type": "code",
   "execution_count": 278,
   "metadata": {},
   "outputs": [
    {
     "data": {
      "image/png": "[encoded data removed]",
      "text/plain": [
       "<Figure size 432x288 with 1 Axes>"
      ]
     },
     "metadata": {
      "needs_background": "light"
     },
     "output_type": "display_data"
    }
   ],
   "source": [
    "plt.title('Cost Function Graph')\n",
    "plt.xlabel('Epoch')\n",
    "plt.ylabel('Cost Function')\n",
    "plt.plot(J_arr, cost_array)\n",
    "plt.show()"
   ]
  },
  {
   "cell_type": "markdown",
   "metadata": {},
   "source": [
    "Here, you can check any individual image. You can load the particular image from the test dataset by changing the array index. The program will tell whether the number is 1 or not"
   ]
  },
  {
   "cell_type": "code",
   "execution_count": 279,
   "metadata": {},
   "outputs": [
    {
     "data": {
      "image/png": "[encoded data removed]",
      "text/plain": [
       "<Figure size 432x288 with 1 Axes>"
      ]
     },
     "metadata": {
      "needs_background": "light"
     },
     "output_type": "display_data"
    },
    {
     "name": "stdout",
     "output_type": "stream",
     "text": [
      "This is 1\n"
     ]
    }
   ],
   "source": [
    "x1 = x_test[2]\n",
    "plt.imshow(x1, interpolation='nearest', cmap = 'gray')\n",
    "plt.show()\n",
    "x1 = x1.reshape(784, 1)\n",
    "A1 = x1\n",
    "for k in range(l-2):\n",
    "    A2, Z1 = forward_prop_hidden(W[k], b[k], A1)         \n",
    "    A1 = A2\n",
    "A2 =  forward_prop_output(W[l-2], b[l-2], A1)\n",
    "if (A2<0.5):\n",
    "    print('This is not 1')\n",
    "else:\n",
    "    print('This is 1')\n"
   ]
  },
  {
   "cell_type": "code",
   "execution_count": 280,
   "metadata": {},
   "outputs": [
    {
     "data": {
      "image/png": "[encoded data removed]",
      "text/plain": [
       "<Figure size 432x288 with 1 Axes>"
      ]
     },
     "metadata": {
      "needs_background": "light"
     },
     "output_type": "display_data"
    },
    {
     "name": "stdout",
     "output_type": "stream",
     "text": [
      "This is not 1\n"
     ]
    }
   ],
   "source": [
    "x1 = x_test[2566]\n",
    "plt.imshow(x1, interpolation='nearest', cmap = 'gray')\n",
    "plt.show()\n",
    "x1 = x1.reshape(784, 1)\n",
    "A1 = x1\n",
    "for k in range(l-2):\n",
    "    A2,Z1 = forward_prop_hidden(W[k], b[k], A1)         \n",
    "    A1 = A2\n",
    "A2 =  forward_prop_output(W[l-2], b[l-2], A1)\n",
    "if (A2<0.5):\n",
    "    print('This is not 1')\n",
    "else:\n",
    "    print('This is 1')"
   ]
  },
  {
   "cell_type": "code",
   "execution_count": 281,
   "metadata": {},
   "outputs": [
    {
     "data": {
      "image/png": "[encoded data removed]",
      "text/plain": [
       "<Figure size 432x288 with 1 Axes>"
      ]
     },
     "metadata": {
      "needs_background": "light"
     },
     "output_type": "display_data"
    },
    {
     "name": "stdout",
     "output_type": "stream",
     "text": [
      "This is not 1\n"
     ]
    }
   ],
   "source": [
    "x1 = x_test[1056]\n",
    "plt.imshow(x1, interpolation='nearest', cmap = 'gray')\n",
    "plt.show()\n",
    "x1 = x1.reshape(784, 1)\n",
    "A1 = x1\n",
    "for k in range(l-2):\n",
    "    A2, Z1 = forward_prop_hidden(W[k], b[k], A1)         \n",
    "    A1 = A2\n",
    "A2 =  forward_prop_output(W[l-2], b[l-2], A1)\n",
    "if (A2<0.5):\n",
    "    print('This is not 1')\n",
    "else:\n",
    "    print('This is 1')"
   ]
  },
  {
   "cell_type": "markdown",
   "metadata": {},
   "source": [
    "This is a mislabelled image."
   ]
  },
  {
   "cell_type": "code",
   "execution_count": 302,
   "metadata": {},
   "outputs": [
    {
     "data": {
      "image/png": "[encoded data removed]",
      "text/plain": [
       "<Figure size 432x288 with 1 Axes>"
      ]
     },
     "metadata": {
      "needs_background": "light"
     },
     "output_type": "display_data"
    },
    {
     "name": "stdout",
     "output_type": "stream",
     "text": [
      "This is 1\n"
     ]
    }
   ],
   "source": [
    "x1 = x_test[1433]\n",
    "plt.imshow(x1, interpolation='nearest', cmap = 'gray')\n",
    "plt.show()\n",
    "x1 = x1.reshape(784, 1)\n",
    "A1 = x1\n",
    "for k in range(l-2):\n",
    "    A2, Z = forward_prop_hidden(W[k], b[k], A1)         \n",
    "    A1 = A2\n",
    "A2 =  forward_prop_output(W[l-2], b[l-2], A1)\n",
    "if (A2<0.5):\n",
    "    print('This is not 1')\n",
    "else:\n",
    "    print('This is 1')"
   ]
  },
  {
   "cell_type": "markdown",
   "metadata": {},
   "source": [
    "Higher learning rate means the regression learns faster, i.e. it converges faster. The accuracy at end of 1000 epochs may not show significant changes on changing the learning rate because in this small dataset, having smaller alphas also makes the program converge.\n",
    "I have also checked the impact of different no of hidden layers and units by changing the value of h and l. It changes the accuracy but not significantly. Generally increasing hidden layers and units increases the accuracy a bit. But it might also decrease it. I found two different values when I ran the code twice with different hidden units. Anyway, the change was insignificant and might have been caused by the initial values of W and b.\n",
    "Also, I have checked the neural network using two different activation function tanh and ReLU in the hidden layer. To check it now, we need to change the name in forward propagation step and the derivative in backward propagation step. After checking I found that ReLU performs better than tanh for same alpha and same number of epochs(2000) and hidden layer."
   ]
  },
  {
   "cell_type": "code",
   "execution_count": null,
   "metadata": {},
   "outputs": [],
   "source": []
  }
 ],
 "metadata": {
  "kernelspec": {
   "display_name": "Python 3",
   "language": "python",
   "name": "python3"
  },
  "language_info": {
   "codemirror_mode": {
    "name": "ipython",
    "version": 3
   },
   "file_extension": ".py",
   "mimetype": "text/x-python",
   "name": "python",
   "nbconvert_exporter": "python",
   "pygments_lexer": "ipython3",
   "version": "3.7.3"
  }
 },
 "nbformat": 4,
 "nbformat_minor": 2
}
