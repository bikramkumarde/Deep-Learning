{
 "cells": [
  {
   "cell_type": "markdown",
   "metadata": {},
   "source": [
    "# Adam Optimizer"
   ]
  },
  {
   "cell_type": "markdown",
   "metadata": {},
   "source": [
    "Run each cell in the notebook. The explanation of the cells are given on top respectively. You would require keras with tensorflow backend."
   ]
  },
  {
   "cell_type": "code",
   "execution_count": 39,
   "metadata": {},
   "outputs": [],
   "source": [
    "import numpy as np\n",
    "import random\n",
    "%matplotlib inline \n",
    "import matplotlib.pyplot as plt\n",
    "from sklearn.metrics import accuracy_score\n",
    "from sklearn.model_selection import train_test_split\n",
    "\n",
    "from keras_team.keras.datasets import mnist"
   ]
  },
  {
   "cell_type": "markdown",
   "metadata": {},
   "source": [
    "Downloading the Mnist data"
   ]
  },
  {
   "cell_type": "code",
   "execution_count": 40,
   "metadata": {},
   "outputs": [],
   "source": [
    "(x_train, y_train), (x_test, y_test) = mnist.load_data()"
   ]
  },
  {
   "cell_type": "markdown",
   "metadata": {},
   "source": [
    "Scaling the data so that values are between 0 and 1"
   ]
  },
  {
   "cell_type": "code",
   "execution_count": 41,
   "metadata": {},
   "outputs": [
    {
     "name": "stdout",
     "output_type": "stream",
     "text": [
      "(60000, 28, 28) (60000,)\n",
      "(10000, 28, 28) (10000,)\n"
     ]
    }
   ],
   "source": [
    "print(x_train.shape, y_train.shape)\n",
    "print(x_test.shape, y_test.shape)\n",
    "x_train = x_train/255\n",
    "x_test = x_test/255"
   ]
  },
  {
   "cell_type": "markdown",
   "metadata": {},
   "source": [
    "Creating the training and testing dataset alongwith setting the Y values to 0 or 1 depending on a condition. The condition here is last digit of VUNetId. My last digit is 1. So for the Y values of 1, new value is set to 1(true). Rest of them are set to 0(false). Also the 28x28 dataset is converted to a column vector 784x1."
   ]
  },
  {
   "cell_type": "code",
   "execution_count": 42,
   "metadata": {},
   "outputs": [
    {
     "name": "stdout",
     "output_type": "stream",
     "text": [
      "(60000, 784) (60000, 1)\n"
     ]
    }
   ],
   "source": [
    "X = x_train.reshape(60000, 784)  #Converting to column vector for each datapoint\n",
    "X1 = X.copy()\n",
    "Y = np.array(y_train == 1)\n",
    "Y = 1*Y    #Setting values to 1 or 0 for training\n",
    "Y = Y.reshape(60000, 1)\n",
    "print(X.shape,Y.shape)\n",
    "\n",
    "test_X = x_test.reshape(10000,784)\n",
    "test_X = test_X.transpose()\n",
    "test_Y = np.array(y_test == 1)\n",
    "test_Y = 1*test_Y         # Setting values to 1 or 0 for test\n"
   ]
  },
  {
   "cell_type": "code",
   "execution_count": 43,
   "metadata": {},
   "outputs": [
    {
     "name": "stdout",
     "output_type": "stream",
     "text": [
      "(60000, 785)\n"
     ]
    }
   ],
   "source": [
    "total_data = np.concatenate((Y, X), axis = 1)\n",
    "print(total_data.shape)\n"
   ]
  },
  {
   "cell_type": "markdown",
   "metadata": {},
   "source": [
    "This is the forward propagation step of the hidden layer. Here W, b and the data is received as input. The operation W.X + b is performed after taking appropriate transpose. The final value is then passed through a ReLU function"
   ]
  },
  {
   "cell_type": "code",
   "execution_count": 44,
   "metadata": {},
   "outputs": [],
   "source": [
    "def forward_prop_hidden(W, b, data_X):\n",
    "    intermediate = np.dot(W, data_X)\n",
    "    Z = intermediate + b\n",
    "    A = relu(Z)\n",
    "    return A, Z"
   ]
  },
  {
   "cell_type": "markdown",
   "metadata": {},
   "source": [
    "This is the forward propagation step of the output layer. Here W, b and the data is received as input. The operation W.X + b is performed after taking appropriate transpose. The final value is then passed through a sigmoid function to make the value between 0 - 1"
   ]
  },
  {
   "cell_type": "code",
   "execution_count": 45,
   "metadata": {},
   "outputs": [],
   "source": [
    "def forward_prop_output(W, b, data_X):\n",
    "    intermediate = np.dot(W, data_X)\n",
    "    Z = intermediate + b\n",
    "    A = sigmoid(Z)\n",
    "    return A"
   ]
  },
  {
   "cell_type": "markdown",
   "metadata": {},
   "source": [
    "\n",
    "This is the backward propagation step. Here the required derivatives are calculated which will be later updated in further steps."
   ]
  },
  {
   "cell_type": "code",
   "execution_count": 46,
   "metadata": {},
   "outputs": [],
   "source": [
    "def backward_prop_1(A1, m, W2, dZ2, Z1, data_X):\n",
    "    dZ1 = np.dot(W2.T, dZ2) \n",
    "    dZ1 = dZ1* relu_derivative(Z1)\n",
    "    dW1 = np.dot(dZ1, data_X.T)/m\n",
    "    db1 = np.sum(dZ1, axis =1)/m\n",
    "    db1 = db1.reshape(-1, 1)\n",
    "    return dW1, db1, dZ1"
   ]
  },
  {
   "cell_type": "markdown",
   "metadata": {},
   "source": [
    "This is the backward propagation of output layer(Layer2)"
   ]
  },
  {
   "cell_type": "code",
   "execution_count": 47,
   "metadata": {},
   "outputs": [],
   "source": [
    "def backward_prop_2(A2, A1, m, data_Y):\n",
    "    dZ2 = A2 - data_Y\n",
    "    dW2 = np.dot(dZ2, A1.T)/m\n",
    "    db2 = np.sum(dZ2, axis =1)/m\n",
    "    db2 = db2.reshape(-1, 1)\n",
    "    return dW2, db2, dZ2"
   ]
  },
  {
   "cell_type": "markdown",
   "metadata": {},
   "source": [
    "This is the sigmoid activation function used to map any real value between 0 and 1"
   ]
  },
  {
   "cell_type": "code",
   "execution_count": 48,
   "metadata": {},
   "outputs": [],
   "source": [
    "def sigmoid(x):\n",
    "    return 1 / (1 + np.exp(-x))"
   ]
  },
  {
   "cell_type": "markdown",
   "metadata": {},
   "source": [
    "\n",
    "This is the Rectified Linear Unit(ReLU) activation function"
   ]
  },
  {
   "cell_type": "code",
   "execution_count": 49,
   "metadata": {},
   "outputs": [],
   "source": [
    "def relu(x):\n",
    "    return np.maximum(0,x)"
   ]
  },
  {
   "cell_type": "markdown",
   "metadata": {},
   "source": [
    "This is the derivative of the ReLU function"
   ]
  },
  {
   "cell_type": "code",
   "execution_count": 50,
   "metadata": {},
   "outputs": [],
   "source": [
    "def relu_derivative(x):\n",
    "    y = np.array(x > 0)\n",
    "    y = 1*y\n",
    "    return y"
   ]
  },
  {
   "cell_type": "markdown",
   "metadata": {},
   "source": [
    "Computes the cost function for all the training samples"
   ]
  },
  {
   "cell_type": "code",
   "execution_count": 51,
   "metadata": {},
   "outputs": [],
   "source": [
    "def cost_function(A, m, data_Y):\n",
    "    total_cost = -(1 / m) * np.sum(data_Y * np.log(A) + (1 - data_Y) * np.log(1 - A))\n",
    "    return total_cost"
   ]
  },
  {
   "cell_type": "markdown",
   "metadata": {},
   "source": [
    "Here the results are predicted. The W and b of model are taken as input. The values are predicted using test dataset and then using the actual values the accuracy is computed"
   ]
  },
  {
   "cell_type": "code",
   "execution_count": 52,
   "metadata": {},
   "outputs": [],
   "source": [
    "def results(W, b, data_X, data_Y):\n",
    "    A1 = data_X\n",
    "    for k in range(l-2):\n",
    "        A1, Z1 = forward_prop_hidden(W[k], b[k], A1)        \n",
    "    A2 =  forward_prop_output(W[l-2], b[l-2], A1)   \n",
    "    pred_Y = A2.transpose()\n",
    "    \n",
    "    pred_Y = np.around(pred_Y, decimals = 0)   #Rounding off the predicted value to 0 or 1    \n",
    "    accuracy = accuracy_score(data_Y.T, pred_Y)   \n",
    "    return accuracy"
   ]
  },
  {
   "cell_type": "markdown",
   "metadata": {},
   "source": [
    "Plotting the cost function as a function of the iterations. In general we can see that the cost function decreases very fast initially but after a certain number of iterations the rate of decrease is much less which indicates that our neural network is converging hence the error is reducing asymptotically."
   ]
  },
  {
   "cell_type": "code",
   "execution_count": 53,
   "metadata": {},
   "outputs": [],
   "source": [
    "def cost_graph(J_arr, cost_arr):\n",
    "    plt.title('Cost Function Graph')\n",
    "    plt.xlabel('Iterations')\n",
    "    plt.ylabel('Cost Function')\n",
    "    plt.plot(J_arr, cost_arr)\n",
    "    plt.show()"
   ]
  },
  {
   "cell_type": "markdown",
   "metadata": {},
   "source": [
    "Here we construct the layout of our neural network. The h array contains the number of hidden units in each layer and the value l indicates the total no of layers."
   ]
  },
  {
   "cell_type": "code",
   "execution_count": 54,
   "metadata": {},
   "outputs": [],
   "source": [
    "h = [784, 20, 10, 1]     #hidden units\n",
    "l = 4               #total no of layers"
   ]
  },
  {
   "cell_type": "markdown",
   "metadata": {},
   "source": [
    "This is the adam optimizer. We have hyperparameters of learning rate, beta1, beta2 and we print the training and testing accuracy. After that we plot the cost function on basis of number of iterations. We have set the number of batches to 60000/batch size."
   ]
  },
  {
   "cell_type": "code",
   "execution_count": 55,
   "metadata": {},
   "outputs": [
    {
     "name": "stderr",
     "output_type": "stream",
     "text": [
      "C:\\Users\\Bikram Kumar De\\Anaconda3\\lib\\site-packages\\ipykernel_launcher.py:2: RuntimeWarning: divide by zero encountered in log\n",
      "  \n",
      "C:\\Users\\Bikram Kumar De\\Anaconda3\\lib\\site-packages\\ipykernel_launcher.py:2: RuntimeWarning: invalid value encountered in multiply\n",
      "  \n"
     ]
    },
    {
     "name": "stdout",
     "output_type": "stream",
     "text": [
      "Beta1: 0.9 Beta2: 0.999\n",
      "Training error: 0.0 %\n",
      "Test error: 0.29999999999999716 %\n"
     ]
    },
    {
     "data": {
      "image/png": "[encoded data removed]",
      "text/plain": [
       "<Figure size 432x288 with 1 Axes>"
      ]
     },
     "metadata": {
      "needs_background": "light"
     },
     "output_type": "display_data"
    },
    {
     "name": "stdout",
     "output_type": "stream",
     "text": [
      "Beta1: 0.9 Beta2: 0.6\n",
      "Training error: 1.171875 %\n",
      "Test error: 0.9000000000000057 %\n"
     ]
    },
    {
     "data": {
      "image/png": "[encoded data removed]",
      "text/plain": [
       "<Figure size 432x288 with 1 Axes>"
      ]
     },
     "metadata": {
      "needs_background": "light"
     },
     "output_type": "display_data"
    },
    {
     "name": "stdout",
     "output_type": "stream",
     "text": [
      "Beta1: 0.9 Beta2: 0.01\n",
      "Training error: 10.546875 %\n",
      "Test error: 11.350000000000009 %\n"
     ]
    },
    {
     "data": {
      "image/png": "[encoded data removed]",
      "text/plain": [
       "<Figure size 432x288 with 1 Axes>"
      ]
     },
     "metadata": {
      "needs_background": "light"
     },
     "output_type": "display_data"
    },
    {
     "name": "stdout",
     "output_type": "stream",
     "text": [
      "Beta1: 0.5 Beta2: 0.999\n",
      "Training error: 0.0 %\n",
      "Test error: 0.28000000000000114 %\n"
     ]
    },
    {
     "data": {
      "image/png": "[encoded data removed]",
      "text/plain": [
       "<Figure size 432x288 with 1 Axes>"
      ]
     },
     "metadata": {
      "needs_background": "light"
     },
     "output_type": "display_data"
    },
    {
     "name": "stdout",
     "output_type": "stream",
     "text": [
      "Beta1: 0.5 Beta2: 0.6\n",
      "Training error: 0.0 %\n",
      "Test error: 0.37999999999999545 %\n"
     ]
    },
    {
     "data": {
      "image/png": "[encoded data removed]",
      "text/plain": [
       "<Figure size 432x288 with 1 Axes>"
      ]
     },
     "metadata": {
      "needs_background": "light"
     },
     "output_type": "display_data"
    },
    {
     "name": "stdout",
     "output_type": "stream",
     "text": [
      "Beta1: 0.5 Beta2: 0.01\n",
      "Training error: 0.0 %\n",
      "Test error: 0.5499999999999972 %\n"
     ]
    },
    {
     "data": {
      "image/png": "[encoded data removed]",
      "text/plain": [
       "<Figure size 432x288 with 1 Axes>"
      ]
     },
     "metadata": {
      "needs_background": "light"
     },
     "output_type": "display_data"
    },
    {
     "name": "stdout",
     "output_type": "stream",
     "text": [
      "Beta1: 0.1 Beta2: 0.999\n",
      "Training error: 0.0 %\n",
      "Test error: 0.3399999999999892 %\n"
     ]
    },
    {
     "data": {
      "image/png": "[encoded data removed]",
      "text/plain": [
       "<Figure size 432x288 with 1 Axes>"
      ]
     },
     "metadata": {
      "needs_background": "light"
     },
     "output_type": "display_data"
    },
    {
     "name": "stdout",
     "output_type": "stream",
     "text": [
      "Beta1: 0.1 Beta2: 0.6\n",
      "Training error: 0.0 %\n",
      "Test error: 0.37999999999999545 %\n"
     ]
    },
    {
     "data": {
      "image/png": "[encoded data removed]",
      "text/plain": [
       "<Figure size 432x288 with 1 Axes>"
      ]
     },
     "metadata": {
      "needs_background": "light"
     },
     "output_type": "display_data"
    },
    {
     "name": "stdout",
     "output_type": "stream",
     "text": [
      "Beta1: 0.1 Beta2: 0.01\n",
      "Training error: 0.390625 %\n",
      "Test error: 0.4299999999999926 %\n"
     ]
    },
    {
     "data": {
      "image/png": "[encoded data removed]",
      "text/plain": [
       "<Figure size 432x288 with 1 Axes>"
      ]
     },
     "metadata": {
      "needs_background": "light"
     },
     "output_type": "display_data"
    }
   ],
   "source": [
    "def adam():\n",
    "    alpha = 0.001\n",
    "    beta1_arr = [0.9, 0.5, 0.1]\n",
    "    beta2_arr = [0.999, 0.6, 0.01]\n",
    "    delta = 0.00000001\n",
    "    W = [None]*(l-1)\n",
    "    b = [None]*(l-1)\n",
    "    VdW = [None]*(l-1)\n",
    "    Vdb = [None]*(l-1)\n",
    "    SdW = [None]*(l-1)\n",
    "    Sdb = [None]*(l-1)\n",
    "    v_dW = [None]*(l-1)\n",
    "    v_db = [None]*(l-1)\n",
    "    s_dW = [None]*(l-1)\n",
    "    s_db = [None]*(l-1)\n",
    "    A = [None]*(l)\n",
    "    dW = [None]*(l-1)\n",
    "    db = [None]*(l-1)\n",
    "    dZ = [None]*(l-1)\n",
    "    Z = [None]*(l)\n",
    "    cost_array = []\n",
    "    J_arr =[]\n",
    "    epochs = 501\n",
    "    count = 0\n",
    "    for beta1 in beta1_arr:\n",
    "        for beta2 in beta2_arr:\n",
    "            cost_array = []\n",
    "            J_arr =[]\n",
    "            count = 0\n",
    "            for k in range(l-1):\n",
    "                W[k] = np.random.randn(h[k+1],h[k])/np.sqrt(h[k])     #Initializing parameters\n",
    "                b[k] = np.random.rand(h[k+1], 1)*0.0\n",
    "                VdW[k] = np.random.rand(h[k+1],h[k])*0.0\n",
    "                Vdb[k] = np.random.rand(h[k+1], 1)*0.0\n",
    "                SdW[k] = np.random.rand(h[k+1],h[k])*0.0\n",
    "                Sdb[k] = np.random.rand(h[k+1], 1)*0.0\n",
    "                v_dW[k] = np.random.rand(h[k+1],h[k])*0.0\n",
    "                v_db[k] = np.random.rand(h[k+1], 1)*0.0\n",
    "                s_dW[k] = np.random.rand(h[k+1],h[k])*0.0\n",
    "                s_db[k] = np.random.rand(h[k+1], 1)*0.0\n",
    "            for epoch in range(epochs):\n",
    "#                 if(epoch%100 == 0):\n",
    "#                     print('Epoch:', epoch)\n",
    "                np.random.shuffle(total_data)\n",
    "                split_data = np.array_split(total_data, (60000/256))   #set the number of batches\n",
    "                minibatch_count = 0\n",
    "                t = 0\n",
    "                for minibatch in split_data:\n",
    "#                     if (epoch%50 == 0 and minibatch_count %200 ==0):\n",
    "#                         print('Batch Count:', minibatch_count)\n",
    "                    minibatch_count += 1\n",
    "                    X = np.array(minibatch[:,1:])\n",
    "                    Y = np.array(minibatch[:,0])        #selecting data and truth values of minibatches\n",
    "                    train_X = X.T\n",
    "                    train_Y = Y.T\n",
    "                    n, m = train_X.shape\n",
    "                    A[0] = train_X\n",
    "                    for k in range(l-2):\n",
    "                        A[k+1], Z[k+1] = forward_prop_hidden(W[k], b[k], A[k])         #forward propagation through hidden layer  \n",
    "                    A[l-1] =  forward_prop_output(W[l-2], b[l-2], A[l-2])     #forward propagation through output layer         \n",
    "\n",
    "                    (dW[l-2], db[l-2], dZ[l-2]) = backward_prop_2(A[l-1], A[l-2], m, train_Y)  #backpropagation through output layer\n",
    "                    for k in reversed(range(l-2)):\n",
    "                        (dW[k], db[k], dZ[k]) = backward_prop_1(A[k+1], m, W[k+1], dZ[k+1], Z[k+1], A[k]) #backpropagation through hidden layer\n",
    "                    t = t+1\n",
    "                    for k in range(l-1):\n",
    "                        VdW[k] = beta1*VdW[k] + (1-beta1)*dW[k]   #Using velocity and momentum\n",
    "                        Vdb[k] = beta1*Vdb[k] + (1-beta1)*db[k]\n",
    "                        SdW[k] = beta2*SdW[k] + (1-beta2)*dW[k]*dW[k]\n",
    "                        Sdb[k] = beta2*Sdb[k] + (1-beta2)*db[k]*db[k]\n",
    "                        v_dW[k] = VdW[k]/(1-(beta1**t))\n",
    "                        v_db[k] = Vdb[k]/(1-(beta1**t))\n",
    "                        s_dW[k] = SdW[k]/(1-(beta2**t))\n",
    "                        s_db[k] = Sdb[k]/(1-(beta2**t))\n",
    "                        W[k] = W[k] - alpha*v_dW[k]/(np.sqrt(s_dW[k])+delta)\n",
    "                        b[k] = b[k] - alpha*v_db[k]/(np.sqrt(s_db[k])+delta)       #Updating b and W\n",
    "\n",
    "                    total_cost = cost_function(A[l-1], m, train_Y)\n",
    "                    cost_array.append(total_cost)    # Storing the value of cost function\n",
    "                    J_arr.append(count)\n",
    "                    count+= 1\n",
    "\n",
    "            final_accuracy_test = results(W, b, test_X, test_Y)*100    # Calculating the training and test accuracy\n",
    "            final_accuracy_train = results(W, b, train_X, train_Y)*100\n",
    "            print('Beta1:', beta1, 'Beta2:', beta2)\n",
    "            print('Training error:', str(100-final_accuracy_train),'%')\n",
    "            print('Test error:', str(100-final_accuracy_test),'%')\n",
    "            cost_graph(J_arr, cost_array)\n",
    "adam()"
   ]
  },
  {
   "cell_type": "markdown",
   "metadata": {},
   "source": [
    "I have taken 9 different combinations of beta1 and beta2 hyperparameters and analyzed the results. The cost function for each of the cases has already been plotted. The accuracies are :\n",
    "\n",
    "\n"
   ]
  },
  {
   "cell_type": "markdown",
   "metadata": {},
   "source": [
    "Case 1:\n",
    "Beta1: 0.9 Beta2: 0.999\n",
    "Training error: 0.0 %\n",
    "Test error: 0.29999999999999716 %\n"
   ]
  },
  {
   "cell_type": "markdown",
   "metadata": {},
   "source": [
    "Case 2: Beta1: 0.9 Beta2: 0.6\n",
    "Training error: 1.171875 %\n",
    "Test error: 0.9000000000000057 %"
   ]
  },
  {
   "cell_type": "markdown",
   "metadata": {},
   "source": [
    "Case 3: Beta1: 0.9 Beta2: 0.01\n",
    "Training error: 10.546875 %\n",
    "Test error: 11.350000000000009 %"
   ]
  },
  {
   "cell_type": "markdown",
   "metadata": {},
   "source": [
    "Case 4:\n",
    "Beta1: 0.5 Beta2: 0.999\n",
    "Training error: 0.0 %\n",
    "Test error: 0.28000000000000114 %"
   ]
  },
  {
   "cell_type": "markdown",
   "metadata": {},
   "source": [
    "Case 5:\n",
    "Beta1: 0.5 Beta2: 0.6\n",
    "Training error: 0.0 %\n",
    "Test error: 0.37999999999999545 %"
   ]
  },
  {
   "cell_type": "markdown",
   "metadata": {},
   "source": [
    "Case 6:\n",
    "Beta1: 0.5 Beta2: 0.01\n",
    "Training error: 0.0 %\n",
    "Test error: 0.5499999999999972 %"
   ]
  },
  {
   "cell_type": "markdown",
   "metadata": {},
   "source": [
    "Case 7:\n",
    "Beta1: 0.1 Beta2: 0.999\n",
    "Training error: 0.0 %\n",
    "Test error: 0.3399999999999892 %"
   ]
  },
  {
   "cell_type": "markdown",
   "metadata": {},
   "source": [
    "Case 8:\n",
    "Beta1: 0.1 Beta2: 0.6\n",
    "Training error: 0.0 %\n",
    "Test error: 0.37999999999999545 %"
   ]
  },
  {
   "cell_type": "markdown",
   "metadata": {},
   "source": [
    "Case 9:\n",
    "Beta1: 0.1 Beta2: 0.01\n",
    "Training error: 0.390625 %\n",
    "Test error: 0.4299999999999926 %"
   ]
  },
  {
   "cell_type": "markdown",
   "metadata": {},
   "source": [
    "In general there is a bit of overfitting. It gives 100 % accuracy on training data in some cases. The best scenario is having a high value of beta1 and beta2 both. The worst case scenario is observed when beta1 is high and beta2 is extremely low. At that point the accuracy drops to almost 90%. The major change that is observed on changing the hyperparameters is how fast the cost function converges. This can be seen in the cost graphs. Otherwise the accuracy is greater than 99% in most cases."
   ]
  },
  {
   "cell_type": "code",
   "execution_count": null,
   "metadata": {},
   "outputs": [],
   "source": []
  }
 ],
 "metadata": {
  "kernelspec": {
   "display_name": "Python 3",
   "language": "python",
   "name": "python3"
  },
  "language_info": {
   "codemirror_mode": {
    "name": "ipython",
    "version": 3
   },
   "file_extension": ".py",
   "mimetype": "text/x-python",
   "name": "python",
   "nbconvert_exporter": "python",
   "pygments_lexer": "ipython3",
   "version": "3.7.3"
  }
 },
 "nbformat": 4,
 "nbformat_minor": 2
}
