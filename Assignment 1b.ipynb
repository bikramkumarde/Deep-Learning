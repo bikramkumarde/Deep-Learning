{
 "cells": [
  {
   "cell_type": "markdown",
   "metadata": {},
   "source": [
    "Run each cell in the notebook. The explanation of the cells are given on top respectively"
   ]
  },
  {
   "cell_type": "code",
   "execution_count": 28,
   "metadata": {},
   "outputs": [],
   "source": [
    "import numpy as np\n",
    "import pandas as pd\n",
    "import matplotlib.pyplot as plt"
   ]
  },
  {
   "cell_type": "markdown",
   "metadata": {},
   "source": [
    "Reading the data from the given dataset"
   ]
  },
  {
   "cell_type": "code",
   "execution_count": 45,
   "metadata": {},
   "outputs": [],
   "source": [
    "data = pd. read_csv('housing_price_data.txt', header = None)"
   ]
  },
  {
   "cell_type": "markdown",
   "metadata": {},
   "source": [
    "Converting the data into individual columns and then converting it into a numpy array"
   ]
  },
  {
   "cell_type": "code",
   "execution_count": 46,
   "metadata": {},
   "outputs": [],
   "source": [
    "x1 = data.iloc[:, 0].values\n",
    "x2 = data.iloc[:, 1].values\n",
    "y = data.iloc[:, 2].values"
   ]
  },
  {
   "cell_type": "markdown",
   "metadata": {},
   "source": [
    "Finding the range of values in the given data"
   ]
  },
  {
   "cell_type": "code",
   "execution_count": 49,
   "metadata": {},
   "outputs": [],
   "source": [
    "min_x1 = min(x1)\n",
    "min_x2 = min(x2)\n",
    "min_y = min(y)\n",
    "range_x1 = max(x1)- min(x1)\n",
    "range_x2 = max(x2) - min(x2)\n",
    "range_y = max(y) - min(y)"
   ]
  },
  {
   "cell_type": "markdown",
   "metadata": {},
   "source": [
    "Here we perform Feature scaling. I have used min-max scaling to reduce all the values to 0-1 range for our further calculations"
   ]
  },
  {
   "cell_type": "code",
   "execution_count": 53,
   "metadata": {},
   "outputs": [],
   "source": [
    "X1 = []\n",
    "X2 = []\n",
    "Y = []\n",
    "for i in range(len(x1)):\n",
    "    X1.append((x1[i]-min_x1)/range_x1)\n",
    "    X2.append((x2[i]-min_x2)/range_x2)   # Reducing values to range 0-1\n",
    "    Y.append((y[i]-min_y)/range_y)  "
   ]
  },
  {
   "cell_type": "markdown",
   "metadata": {},
   "source": [
    "Here we perform the gradient descent algorithm. m1, m2 and c are the gradient descent parameters. We calculate the parameters and update them simultaneously in each step. The update is done by calculating partial differential of the cost function with respect to each of the parameters. The cost function is stored in the cost_func array. The J_arr array is created to help in plotting the cost functions. It simply stores the epoch number. In the end, I have printed the final linear regression equation which shows the final calculated parameters. The epochs and the learning rate L can be set by the user."
   ]
  },
  {
   "cell_type": "code",
   "execution_count": 67,
   "metadata": {},
   "outputs": [
    {
     "name": "stdout",
     "output_type": "stream",
     "text": [
      "--------------------------Equation--------------------------------------------\n",
      "Y = 0.512664448679242 *X1 + 0.16903320143781675 *X2 + 0.07193516038472995\n"
     ]
    }
   ],
   "source": [
    "m1 = m2 = c = 0    #the gradient descent parameters\n",
    "L = 0.001  # The learning Rate\n",
    "epochs = 10000   #Number of times to perform linear regression\n",
    "cost_func = []\n",
    "cost_sum = 0\n",
    "J_arr = []\n",
    "count = 0\n",
    "n = float(len(X1)) # Number of elements in X\n",
    "# Performing Gradient Descent\n",
    "for j in range (epochs):\n",
    "    for i in range(len(X1)): \n",
    "        Y_pred = m1*X1[i] + m2*X2[i] +  c            # The current predicted value of Y\n",
    "        diff_Y = Y[i] - Y_pred\n",
    "        D_m1 = (-2/n) * (X1[i] * diff_Y)  # Derivative wrt m1\n",
    "        D_m2 = (-2/n) * (X2[i] * diff_Y)  # Derivative wrt m2\n",
    "        D_c = (-2/n) * diff_Y  # Derivative wrt c\n",
    "        m1 = m1 - L * D_m1  # Update m1\n",
    "        m2 = m2 - L * D_m2  # Update m1\n",
    "        c = c - L * D_c  # Update c\n",
    "        cost_sum += np.square(diff_Y)\n",
    "    cost = cost_sum/(n*2)\n",
    "    cost_func.append(cost)\n",
    "    cost_sum = 0\n",
    "    J_arr.append(count)\n",
    "    count+= 1\n",
    "        \n",
    "print('--------------------------Equation--------------------------------------------')    \n",
    "print ('Y =',m1,'*X1 +',m2,'*X2 +', c)"
   ]
  },
  {
   "cell_type": "markdown",
   "metadata": {},
   "source": [
    "Plotting the cost function as a function of the gradient descent iterations. We can see that the cost function decreases very fast initially but after a certain number of iterations the rate of decrease is much less which indicates that our linear regression line is gradually becomming closer to the actual value, hence the error is reducing asymptotically."
   ]
  },
  {
   "cell_type": "code",
   "execution_count": 71,
   "metadata": {},
   "outputs": [
    {
     "data": {
      "image/png": "[encoded data removed]",
      "text/plain": [
       "<Figure size 432x288 with 1 Axes>"
      ]
     },
     "metadata": {
      "needs_background": "light"
     },
     "output_type": "display_data"
    }
   ],
   "source": [
    "plt.title('Cost Function Graph')\n",
    "plt.xlabel('Epoch')\n",
    "plt.ylabel('Cost Function')\n",
    "plt.plot(J_arr, cost_func)\n",
    "plt.show()"
   ]
  },
  {
   "cell_type": "markdown",
   "metadata": {},
   "source": [
    "Here the user can give their own input. The size of the house can be set with a1 and the number of bedrooms with a2. The predicted housing price using our model is displayed as output. "
   ]
  },
  {
   "cell_type": "code",
   "execution_count": 73,
   "metadata": {},
   "outputs": [
    {
     "name": "stdout",
     "output_type": "stream",
     "text": [
      "Housing price = $ 346637.3102645747\n"
     ]
    }
   ],
   "source": [
    "a1 = 2104\n",
    "a2 = 3\n",
    "a1_mod = (a1-min_x1)/range_x1\n",
    "a2_mod = (a2-min_x2)/range_x2\n",
    "predict_mod = m1*a1_mod + m2*a2_mod +c\n",
    "predicted_actual = predict_mod*range_y + min_y\n",
    "print('Housing price = $',predicted_actual)"
   ]
  },
  {
   "cell_type": "code",
   "execution_count": null,
   "metadata": {},
   "outputs": [],
   "source": []
  }
 ],
 "metadata": {
  "kernelspec": {
   "display_name": "Python 3",
   "language": "python",
   "name": "python3"
  },
  "language_info": {
   "codemirror_mode": {
    "name": "ipython",
    "version": 3
   },
   "file_extension": ".py",
   "mimetype": "text/x-python",
   "name": "python",
   "nbconvert_exporter": "python",
   "pygments_lexer": "ipython3",
   "version": "3.7.3"
  }
 },
 "nbformat": 4,
 "nbformat_minor": 2
}
