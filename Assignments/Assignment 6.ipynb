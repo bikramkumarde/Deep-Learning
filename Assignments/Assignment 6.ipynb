{
 "cells": [
  {
   "cell_type": "markdown",
   "metadata": {},
   "source": [
    "# Assignment 6"
   ]
  },
  {
   "cell_type": "markdown",
   "metadata": {},
   "source": [
    "Run each cell in the notebook. The explanation of the cells are given on top respectively. You would require keras with tensorflow backend."
   ]
  },
  {
   "cell_type": "code",
   "execution_count": 66,
   "metadata": {},
   "outputs": [],
   "source": [
    "import numpy as np\n",
    "import random\n",
    "%matplotlib inline \n",
    "import matplotlib.pyplot as plt\n",
    "from sklearn.metrics import accuracy_score\n",
    "from sklearn.model_selection import train_test_split\n",
    "\n",
    "from keras_team.keras.datasets import mnist"
   ]
  },
  {
   "cell_type": "markdown",
   "metadata": {},
   "source": [
    "Downloading the Mnist data"
   ]
  },
  {
   "cell_type": "code",
   "execution_count": 67,
   "metadata": {},
   "outputs": [],
   "source": [
    "(x_train, y_train), (x_test, y_test) = mnist.load_data()"
   ]
  },
  {
   "cell_type": "markdown",
   "metadata": {},
   "source": [
    "Scaling the data so that values are between 0 and 1"
   ]
  },
  {
   "cell_type": "code",
   "execution_count": 68,
   "metadata": {},
   "outputs": [
    {
     "name": "stdout",
     "output_type": "stream",
     "text": [
      "(60000, 28, 28) (60000,)\n",
      "(10000, 28, 28) (10000,)\n"
     ]
    }
   ],
   "source": [
    "print(x_train.shape, y_train.shape)\n",
    "print(x_test.shape, y_test.shape)\n",
    "x_train = x_train/255\n",
    "x_test = x_test/255"
   ]
  },
  {
   "cell_type": "markdown",
   "metadata": {},
   "source": [
    "Creating the training and testing dataset alongwith setting the Y values to 0 or 1 depending on a condition. The condition here is last digit of VUNetId. My last digit is 1. So for the Y values of 1, new value is set to 1(true). Rest of them are set to 0(false). Also the 28x28 dataset is converted to a column vector 784x1."
   ]
  },
  {
   "cell_type": "code",
   "execution_count": 69,
   "metadata": {},
   "outputs": [
    {
     "name": "stdout",
     "output_type": "stream",
     "text": [
      "(60000, 784) (60000, 1)\n"
     ]
    }
   ],
   "source": [
    "X = x_train.reshape(60000, 784)  #Converting to column vector for each datapoint\n",
    "X1 = X.copy()\n",
    "Y = np.array(y_train == 1)\n",
    "Y = 1*Y    #Setting values to 1 or 0 for training\n",
    "Y = Y.reshape(60000, 1)\n",
    "print(X.shape,Y.shape)\n",
    "\n",
    "test_X = x_test.reshape(10000,784)\n",
    "test_X = test_X.transpose()\n",
    "test_Y = np.array(y_test == 1)\n",
    "test_Y = 1*test_Y         # Setting values to 1 or 0 for test\n"
   ]
  },
  {
   "cell_type": "code",
   "execution_count": 70,
   "metadata": {},
   "outputs": [
    {
     "name": "stdout",
     "output_type": "stream",
     "text": [
      "(60000, 785)\n"
     ]
    }
   ],
   "source": [
    "total_data = np.concatenate((Y, X), axis = 1)\n",
    "print(total_data.shape)\n"
   ]
  },
  {
   "cell_type": "markdown",
   "metadata": {},
   "source": [
    "This is the forward propagation step of the hidden layer. Here W, b and the data is received as input. The operation W.X + b is performed after taking appropriate transpose. The final value is then passed through a ReLU function"
   ]
  },
  {
   "cell_type": "code",
   "execution_count": 71,
   "metadata": {},
   "outputs": [],
   "source": [
    "def forward_prop_hidden(W, b, data_X):\n",
    "    intermediate = np.dot(W, data_X)\n",
    "    Z = intermediate + b\n",
    "    A = relu(Z)\n",
    "    return A, Z"
   ]
  },
  {
   "cell_type": "markdown",
   "metadata": {},
   "source": [
    "This is the forward propagation step of the output layer. Here W, b and the data is received as input. The operation W.X + b is performed after taking appropriate transpose. The final value is then passed through a sigmoid function to make the value between 0 - 1"
   ]
  },
  {
   "cell_type": "code",
   "execution_count": 72,
   "metadata": {},
   "outputs": [],
   "source": [
    "def forward_prop_output(W, b, data_X):\n",
    "    intermediate = np.dot(W, data_X)\n",
    "    Z = intermediate + b\n",
    "    A = sigmoid(Z)\n",
    "    return A"
   ]
  },
  {
   "cell_type": "markdown",
   "metadata": {},
   "source": [
    "\n",
    "This is the backward propagation step. Here the required derivatives are calculated which will be later updated in further steps."
   ]
  },
  {
   "cell_type": "code",
   "execution_count": 73,
   "metadata": {},
   "outputs": [],
   "source": [
    "def backward_prop_1(A1, m, W2, dZ2, Z1, data_X):\n",
    "    dZ1 = np.dot(W2.T, dZ2) \n",
    "    dZ1 = dZ1* relu_derivative(Z1)\n",
    "    dW1 = np.dot(dZ1, data_X.T)/m\n",
    "    db1 = np.sum(dZ1, axis =1)/m\n",
    "    db1 = db1.reshape(-1, 1)\n",
    "    return dW1, db1, dZ1"
   ]
  },
  {
   "cell_type": "markdown",
   "metadata": {},
   "source": [
    "This is the backward propagation of output layer(Layer2)"
   ]
  },
  {
   "cell_type": "code",
   "execution_count": 74,
   "metadata": {},
   "outputs": [],
   "source": [
    "def backward_prop_2(A2, A1, m, data_Y):\n",
    "    dZ2 = A2 - data_Y\n",
    "    dW2 = np.dot(dZ2, A1.T)/m\n",
    "    db2 = np.sum(dZ2, axis =1)/m\n",
    "    db2 = db2.reshape(-1, 1)\n",
    "    return dW2, db2, dZ2"
   ]
  },
  {
   "cell_type": "markdown",
   "metadata": {},
   "source": [
    "This is the sigmoid activation function used to map any real value between 0 and 1"
   ]
  },
  {
   "cell_type": "code",
   "execution_count": 75,
   "metadata": {},
   "outputs": [],
   "source": [
    "def sigmoid(x):\n",
    "    return 1 / (1 + np.exp(-x))"
   ]
  },
  {
   "cell_type": "markdown",
   "metadata": {},
   "source": [
    "\n",
    "This is the Rectified Linear Unit(ReLU) activation function"
   ]
  },
  {
   "cell_type": "code",
   "execution_count": 76,
   "metadata": {},
   "outputs": [],
   "source": [
    "def relu(x):\n",
    "    return np.maximum(0,x)"
   ]
  },
  {
   "cell_type": "markdown",
   "metadata": {},
   "source": [
    "This is the derivative of the ReLU function"
   ]
  },
  {
   "cell_type": "code",
   "execution_count": 77,
   "metadata": {},
   "outputs": [],
   "source": [
    "def relu_derivative(x):\n",
    "    y = np.array(x > 0)\n",
    "    y = 1*y\n",
    "    return y"
   ]
  },
  {
   "cell_type": "markdown",
   "metadata": {},
   "source": [
    "Computes the cost function for all the training samples"
   ]
  },
  {
   "cell_type": "code",
   "execution_count": 78,
   "metadata": {},
   "outputs": [],
   "source": [
    "def cost_function(A, m, data_Y):\n",
    "    total_cost = -(1 / m) * np.sum(data_Y * np.log(A) + (1 - data_Y) * np.log(1 - A))\n",
    "    return total_cost"
   ]
  },
  {
   "cell_type": "markdown",
   "metadata": {},
   "source": [
    "Here the results are predicted. The W and b of model are taken as input. The values are predicted using test dataset and then using the actual values the accuracy is computed"
   ]
  },
  {
   "cell_type": "code",
   "execution_count": 79,
   "metadata": {},
   "outputs": [],
   "source": [
    "def results(W, b, data_X, data_Y):\n",
    "    A1 = data_X\n",
    "    for k in range(l-2):\n",
    "        A1, Z1 = forward_prop_hidden(W[k], b[k], A1)        \n",
    "    A2 =  forward_prop_output(W[l-2], b[l-2], A1)   \n",
    "    pred_Y = A2.transpose()\n",
    "    \n",
    "    pred_Y = np.around(pred_Y, decimals = 0)   #Rounding off the predicted value to 0 or 1    \n",
    "    accuracy = accuracy_score(data_Y.T, pred_Y)   \n",
    "    return accuracy"
   ]
  },
  {
   "cell_type": "markdown",
   "metadata": {},
   "source": [
    "Plotting the cost function as a function of the iterations. In general we can see that the cost function decreases very fast initially but after a certain number of iterations the rate of decrease is much less which indicates that our neural network is converging hence the error is reducing asymptotically."
   ]
  },
  {
   "cell_type": "code",
   "execution_count": 80,
   "metadata": {},
   "outputs": [],
   "source": [
    "def cost_graph(J_arr, cost_arr):\n",
    "    plt.title('Cost Function Graph')\n",
    "    plt.xlabel('Iterations')\n",
    "    plt.ylabel('Cost Function')\n",
    "    plt.plot(J_arr, cost_arr)\n",
    "    plt.show()"
   ]
  },
  {
   "cell_type": "markdown",
   "metadata": {},
   "source": [
    "Here we construct the layout of our neural network. The h array contains the number of hidden units in each layer and the value l indicates the total no of layers."
   ]
  },
  {
   "cell_type": "code",
   "execution_count": 81,
   "metadata": {},
   "outputs": [],
   "source": [
    "h = [784, 20, 10, 1]     #hidden units\n",
    "l = 4               #total no of layers"
   ]
  },
  {
   "cell_type": "markdown",
   "metadata": {},
   "source": [
    "# Minibatch Stochastic Gradient Descent"
   ]
  },
  {
   "cell_type": "markdown",
   "metadata": {},
   "source": [
    "This is the minibatch stochastic gradient descent. We have hyperparameters of learning rate and we print the training and testing accuracy. Also we plot the decision boundary after training. After that we plot the cost function on basis of number of iterations. We have set the number of batches to 60000/batch size."
   ]
  },
  {
   "cell_type": "code",
   "execution_count": 82,
   "metadata": {},
   "outputs": [
    {
     "name": "stdout",
     "output_type": "stream",
     "text": [
      "Epoch: 0\n",
      "Batch Count: 0\n",
      "Batch Count: 200\n",
      "Epoch: 50\n",
      "Batch Count: 0\n",
      "Batch Count: 200\n",
      "Epoch: 100\n",
      "Batch Count: 0\n",
      "Batch Count: 200\n",
      "Epoch: 150\n",
      "Batch Count: 0\n",
      "Batch Count: 200\n",
      "Epoch: 200\n",
      "Batch Count: 0\n",
      "Batch Count: 200\n",
      "Epoch: 250\n",
      "Batch Count: 0\n",
      "Batch Count: 200\n",
      "Epoch: 300\n",
      "Batch Count: 0\n",
      "Batch Count: 200\n",
      "Epoch: 350\n",
      "Batch Count: 0\n",
      "Batch Count: 200\n",
      "Epoch: 400\n",
      "Batch Count: 0\n",
      "Batch Count: 200\n",
      "Epoch: 450\n",
      "Batch Count: 0\n",
      "Batch Count: 200\n",
      "Epoch: 500\n",
      "Batch Count: 0\n",
      "Batch Count: 200\n",
      "Epoch: 550\n",
      "Batch Count: 0\n",
      "Batch Count: 200\n",
      "Epoch: 600\n",
      "Batch Count: 0\n",
      "Batch Count: 200\n",
      "Epoch: 650\n",
      "Batch Count: 0\n",
      "Batch Count: 200\n",
      "Epoch: 700\n",
      "Batch Count: 0\n",
      "Batch Count: 200\n",
      "Epoch: 750\n",
      "Batch Count: 0\n",
      "Batch Count: 200\n",
      "Epoch: 800\n",
      "Batch Count: 0\n",
      "Batch Count: 200\n",
      "Epoch: 850\n",
      "Batch Count: 0\n",
      "Batch Count: 200\n",
      "Epoch: 900\n",
      "Batch Count: 0\n",
      "Batch Count: 200\n",
      "Epoch: 950\n",
      "Batch Count: 0\n",
      "Batch Count: 200\n",
      "Epoch: 1000\n",
      "Batch Count: 0\n",
      "Batch Count: 200\n",
      "Training error: 0.0 %\n",
      "Test error: 0.29999999999999716 %\n"
     ]
    },
    {
     "data": {
      "image/png": "[encoded data removed]",
      "text/plain": [
       "<Figure size 432x288 with 1 Axes>"
      ]
     },
     "metadata": {
      "needs_background": "light"
     },
     "output_type": "display_data"
    }
   ],
   "source": [
    "def sgd():\n",
    "    alpha = 0.01\n",
    "    W = [None]*(l-1)\n",
    "    b = [None]*(l-1)\n",
    "    A = [None]*(l)\n",
    "    dW = [None]*(l-1)\n",
    "    db = [None]*(l-1)\n",
    "    dZ = [None]*(l-1)\n",
    "    Z = [None]*(l)\n",
    "    cost_array = []\n",
    "    J_arr =[]\n",
    "    epochs = 1001\n",
    "    count = 0\n",
    "    for k in range(l-1):\n",
    "        W[k] = np.random.randn(h[k+1],h[k])/np.sqrt(h[k])     #Initializing W and b\n",
    "        b[k] = np.random.rand(h[k+1], 1)*0.0\n",
    "    for epoch in range(epochs):\n",
    "        if(epoch%50 == 0):\n",
    "            print('Epoch:', epoch)\n",
    "        np.random.shuffle(total_data)\n",
    "        split_data = np.array_split(total_data, (60000/256))   # set the number of batches\n",
    "        minibatch_count = 0\n",
    "        for minibatch in split_data:\n",
    "            if (epoch%50 == 0 and minibatch_count %200 ==0):\n",
    "                print('Batch Count:', minibatch_count)\n",
    "            minibatch_count += 1\n",
    "            X = np.array(minibatch[:,1:])\n",
    "            Y = np.array(minibatch[:,0])   # selecting data and the truth value of the minibatches\n",
    "            train_X = X.T\n",
    "            train_Y = Y.T\n",
    "            n, m = train_X.shape\n",
    "            A[0] = train_X\n",
    "            for k in range(l-2):\n",
    "                A[k+1], Z[k+1] = forward_prop_hidden(W[k], b[k], A[k])         #forward propagation through hidden layer  \n",
    "            A[l-1] =  forward_prop_output(W[l-2], b[l-2], A[l-2])     #forward propagation through output layer         \n",
    "\n",
    "            (dW[l-2], db[l-2], dZ[l-2]) = backward_prop_2(A[l-1], A[l-2], m, train_Y)  #backpropagation through output layer\n",
    "            for k in reversed(range(l-2)):\n",
    "                (dW[k], db[k], dZ[k]) = backward_prop_1(A[k+1], m, W[k+1], dZ[k+1], Z[k+1], A[k]) #backpropagation through hidden layer\n",
    "\n",
    "            for k in range(l-1):\n",
    "                W[k] = W[k] - alpha*dW[k]\n",
    "                b[k] = b[k] - alpha*db[k]       #Updating b and W\n",
    "\n",
    "            total_cost = cost_function(A[l-1], m, train_Y)\n",
    "            cost_array.append(total_cost)    # Storing the value of cost function\n",
    "            J_arr.append(count)\n",
    "            count+= 1\n",
    "\n",
    "    final_accuracy_test = results(W, b, test_X, test_Y)*100    # Calculating the training and test accuracy\n",
    "    final_accuracy_train = results(W, b, train_X, train_Y)*100\n",
    "    print('Training error:', str(100-final_accuracy_train),'%')\n",
    "    print('Test error:', str(100-final_accuracy_test),'%')\n",
    "    cost_graph(J_arr, cost_array)    #Plotting the cost vs iterations graph\n",
    "sgd()"
   ]
  },
  {
   "cell_type": "markdown",
   "metadata": {},
   "source": [
    "We find that decreasing the batch size increases the accuracy. But it also increases overfitting. Smaller batch size results in the model being too specific to the training data which makes the training accuracy to 0 but testing accuracy greater."
   ]
  },
  {
   "cell_type": "markdown",
   "metadata": {},
   "source": [
    "# Minibatch Stochastic Gradient Descent with Momentum"
   ]
  },
  {
   "cell_type": "markdown",
   "metadata": {},
   "source": [
    "This is the minibatch stochastic gradient descent. We have hyperparameters of learning rate(alpha) and beta. We print the training and testing accuracy. Also we plot the decision boundary after training. After that we plot the cost function on basis of number of iterations."
   ]
  },
  {
   "cell_type": "code",
   "execution_count": 83,
   "metadata": {},
   "outputs": [
    {
     "name": "stdout",
     "output_type": "stream",
     "text": [
      "Epoch: 0\n",
      "Batch Count: 0\n",
      "Batch Count: 200\n",
      "Batch Count: 0\n",
      "Batch Count: 200\n",
      "Epoch: 100\n",
      "Batch Count: 0\n",
      "Batch Count: 200\n",
      "Batch Count: 0\n",
      "Batch Count: 200\n",
      "Epoch: 200\n",
      "Batch Count: 0\n",
      "Batch Count: 200\n",
      "Batch Count: 0\n",
      "Batch Count: 200\n",
      "Epoch: 300\n",
      "Batch Count: 0\n",
      "Batch Count: 200\n",
      "Batch Count: 0\n",
      "Batch Count: 200\n",
      "Epoch: 400\n",
      "Batch Count: 0\n",
      "Batch Count: 200\n",
      "Batch Count: 0\n",
      "Batch Count: 200\n",
      "Epoch: 500\n",
      "Batch Count: 0\n",
      "Batch Count: 200\n",
      "Training error: 0.0 %\n",
      "Test error: 0.2600000000000051 %\n"
     ]
    },
    {
     "data": {
      "image/png": "[encoded data removed]",
      "text/plain": [
       "<Figure size 432x288 with 1 Axes>"
      ]
     },
     "metadata": {
      "needs_background": "light"
     },
     "output_type": "display_data"
    }
   ],
   "source": [
    "def sgd_mom():\n",
    "    alpha = 0.01\n",
    "    beta = 0.9\n",
    "    W = [None]*(l-1)\n",
    "    b = [None]*(l-1)\n",
    "    VdW = [None]*(l-1)\n",
    "    Vdb = [None]*(l-1)\n",
    "    A = [None]*(l)\n",
    "    dW = [None]*(l-1)\n",
    "    db = [None]*(l-1)\n",
    "    dZ = [None]*(l-1)\n",
    "    Z = [None]*(l)\n",
    "    cost_array = []\n",
    "    J_arr =[]\n",
    "    epochs = 501\n",
    "    count = 0\n",
    "    for k in range(l-1):\n",
    "        W[k] = np.random.randn(h[k+1],h[k])/np.sqrt(h[k])     #Initializing W and b\n",
    "        b[k] = np.random.rand(h[k+1], 1)*0.0\n",
    "        VdW[k] = np.random.rand(h[k+1],h[k])*0.0\n",
    "        Vdb[k] =np.random.rand(h[k+1], 1)*0.0\n",
    "    for epoch in range(epochs):\n",
    "        if(epoch%100 == 0):\n",
    "            print('Epoch:', epoch)\n",
    "        np.random.shuffle(total_data)\n",
    "        split_data = np.array_split(total_data, (60000/256))   #set the number of batches\n",
    "        minibatch_count = 0\n",
    "        for minibatch in split_data:\n",
    "            if (epoch%50 == 0 and minibatch_count %200 ==0):\n",
    "                print('Batch Count:', minibatch_count)\n",
    "            minibatch_count += 1\n",
    "            X = np.array(minibatch[:,1:])\n",
    "            Y = np.array(minibatch[:,0])        #selecting data and truth values of minibatches\n",
    "            train_X = X.T\n",
    "            train_Y = Y.T\n",
    "            n, m = train_X.shape\n",
    "            A[0] = train_X\n",
    "            for k in range(l-2):\n",
    "                A[k+1], Z[k+1] = forward_prop_hidden(W[k], b[k], A[k])         #forward propagation through hidden layer  \n",
    "            A[l-1] =  forward_prop_output(W[l-2], b[l-2], A[l-2])     #forward propagation through output layer         \n",
    "\n",
    "            (dW[l-2], db[l-2], dZ[l-2]) = backward_prop_2(A[l-1], A[l-2], m, train_Y)  #backpropagation through output layer\n",
    "            for k in reversed(range(l-2)):\n",
    "                (dW[k], db[k], dZ[k]) = backward_prop_1(A[k+1], m, W[k+1], dZ[k+1], Z[k+1], A[k]) #backpropagation through hidden layer\n",
    "\n",
    "            for k in range(l-1):\n",
    "                VdW[k] = beta*VdW[k] + (1-beta)*dW[k]   #Using velocity\n",
    "                Vdb[k] = beta*Vdb[k] + (1-beta)*db[k]\n",
    "                W[k] = W[k] - alpha*VdW[k]\n",
    "                b[k] = b[k] - alpha*Vdb[k]       #Updating b and W\n",
    "\n",
    "            total_cost = cost_function(A[l-1], m, train_Y)\n",
    "            cost_array.append(total_cost)    # Storing the value of cost function\n",
    "            J_arr.append(count)\n",
    "            count+= 1\n",
    "\n",
    "    final_accuracy_test = results(W, b, test_X, test_Y)*100    # Calculating the training and test accuracy\n",
    "    final_accuracy_train = results(W, b, train_X, train_Y)*100\n",
    "    print('Training error:', str(100-final_accuracy_train),'%')\n",
    "    print('Test error:', str(100-final_accuracy_test),'%')\n",
    "    cost_graph(J_arr, cost_array)\n",
    "sgd_mom()"
   ]
  },
  {
   "cell_type": "markdown",
   "metadata": {},
   "source": [
    "Here we find that decreasing the momentum parameter decreases the accuracy, i.e increases the error. It was already suggested to set the momentum parameter to 0.9. At this value of beta, the error is very low though there might be some overfitting."
   ]
  },
  {
   "cell_type": "code",
   "execution_count": null,
   "metadata": {},
   "outputs": [],
   "source": []
  }
 ],
 "metadata": {
  "kernelspec": {
   "display_name": "Python 3",
   "language": "python",
   "name": "python3"
  },
  "language_info": {
   "codemirror_mode": {
    "name": "ipython",
    "version": 3
   },
   "file_extension": ".py",
   "mimetype": "text/x-python",
   "name": "python",
   "nbconvert_exporter": "python",
   "pygments_lexer": "ipython3",
   "version": "3.7.3"
  }
 },
 "nbformat": 4,
 "nbformat_minor": 2
}
