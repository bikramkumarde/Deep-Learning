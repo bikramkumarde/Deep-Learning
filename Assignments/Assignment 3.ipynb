{
 "cells": [
  {
   "cell_type": "markdown",
   "metadata": {},
   "source": [
    "# Neural Network on MNIST Data"
   ]
  },
  {
   "cell_type": "markdown",
   "metadata": {},
   "source": [
    "Run each cell in the notebook. The explanation of the cells are given on top respectively. Also, you need to have keras with tensorflow backend to load the dataset."
   ]
  },
  {
   "cell_type": "code",
   "execution_count": 1,
   "metadata": {},
   "outputs": [
    {
     "name": "stderr",
     "output_type": "stream",
     "text": [
      "Using TensorFlow backend.\n"
     ]
    }
   ],
   "source": [
    "import numpy as np\n",
    "import random\n",
    "%matplotlib inline \n",
    "import matplotlib.pyplot as plt\n",
    "from sklearn.metrics import accuracy_score\n",
    "from sklearn.model_selection import train_test_split\n",
    "from keras_team.keras.datasets import mnist"
   ]
  },
  {
   "cell_type": "markdown",
   "metadata": {},
   "source": [
    "Downloading the Mnist data"
   ]
  },
  {
   "cell_type": "code",
   "execution_count": 2,
   "metadata": {},
   "outputs": [],
   "source": [
    "(x_train, y_train), (x_test, y_test) = mnist.load_data()"
   ]
  },
  {
   "cell_type": "markdown",
   "metadata": {},
   "source": [
    "Scaling the data so that values are between 0 and 1"
   ]
  },
  {
   "cell_type": "code",
   "execution_count": 3,
   "metadata": {},
   "outputs": [
    {
     "name": "stdout",
     "output_type": "stream",
     "text": [
      "(60000, 28, 28) (60000,)\n",
      "(10000, 28, 28) (10000,)\n"
     ]
    }
   ],
   "source": [
    "print(x_train.shape, y_train.shape)\n",
    "print(x_test.shape, y_test.shape)\n",
    "x_train = x_train/255\n",
    "x_test = x_test/255"
   ]
  },
  {
   "cell_type": "markdown",
   "metadata": {},
   "source": [
    "Creating the training and testing dataset alongwith setting the Y values to 0 or 1 depending on a condition. The condition here is last digit of VUNetId. My last digit is 1. So for the Y values of 1, new value is set to 1(true). Rest of them are set to 0(false). Also the 28x28 dataset is converted to a column vector 784x1."
   ]
  },
  {
   "cell_type": "code",
   "execution_count": 4,
   "metadata": {},
   "outputs": [],
   "source": [
    "X = x_train.reshape(60000, 784)  #Converting to column vector for each datapoint\n",
    "X1 = X\n",
    "Y = np.array(y_train == 1)\n",
    "Y = 1*Y    #Setting values to 1 or 0 for training\n",
    "\n",
    "test_X = x_test.reshape(10000,784)\n",
    "test_X = test_X.transpose()\n",
    "test_Y = np.array(y_test == 1)\n",
    "test_Y = 1*test_Y         # Setting values to 1 or 0 for test\n"
   ]
  },
  {
   "cell_type": "markdown",
   "metadata": {},
   "source": [
    "This is the forward propagation step of the hidden layer. Here W, b and the data is received as input. The operation W.X + b is performed after taking appropriate transpose. The final value is then passed through a ReLu or tanh function according to our wishes."
   ]
  },
  {
   "cell_type": "code",
   "execution_count": 5,
   "metadata": {},
   "outputs": [],
   "source": [
    "def forward_prop_hidden(W, b, data_X):\n",
    "    Wt = W.transpose()\n",
    "    intermediate = np.inner(Wt, data_X.transpose())\n",
    "    Z = intermediate + b\n",
    "    A = relu(Z)\n",
    "    return A"
   ]
  },
  {
   "cell_type": "markdown",
   "metadata": {},
   "source": [
    "This is the forward propagation step of the output layer. Here W, b and the data is received as input. The operation W.X + b is performed after taking appropriate transpose. The final value is then passed through a sigmoid function to make the value between 0 - 1"
   ]
  },
  {
   "cell_type": "code",
   "execution_count": 6,
   "metadata": {},
   "outputs": [],
   "source": [
    "def forward_prop_output(W, b, data_X):\n",
    "    Wt = W.transpose()\n",
    "    intermediate = np.inner(Wt, data_X.transpose())\n",
    "    Z = intermediate + b\n",
    "    A = sigmoid(Z)\n",
    "    return A"
   ]
  },
  {
   "cell_type": "markdown",
   "metadata": {},
   "source": [
    "This is the backward propagation step. Here the required derivatives are calculated which will be later updated in further steps"
   ]
  },
  {
   "cell_type": "code",
   "execution_count": 7,
   "metadata": {},
   "outputs": [],
   "source": [
    "def backward_prop_1(A1, m, W2, dZ2, data_X):\n",
    "    dZ1 = np.inner(W2, dZ2.transpose())\n",
    "    dZ1 = dZ1* relu_derivative(dZ1)\n",
    "    dW1 = np.inner(data_X, dZ1)/m\n",
    "    db1 = sum(dZ1)/m\n",
    "    return dW1, db1"
   ]
  },
  {
   "cell_type": "markdown",
   "metadata": {},
   "source": [
    "This is the backward propagation of output layer(Layer2)"
   ]
  },
  {
   "cell_type": "code",
   "execution_count": 8,
   "metadata": {},
   "outputs": [],
   "source": [
    "def backward_prop_2(A2, A1, m, data_Y):\n",
    "    dZ2 = A2 - data_Y\n",
    "    dW2 = np.inner(dZ2, A1)/m\n",
    "    db2 = sum(dZ2)/m\n",
    "    return dW2, db2, dZ2"
   ]
  },
  {
   "cell_type": "markdown",
   "metadata": {},
   "source": [
    "This is the sigmoid activation function used to map any real value between 0 and 1"
   ]
  },
  {
   "cell_type": "code",
   "execution_count": 9,
   "metadata": {},
   "outputs": [],
   "source": [
    "def sigmoid(x):\n",
    "    return 1 / (1 + np.exp(-x))"
   ]
  },
  {
   "cell_type": "markdown",
   "metadata": {},
   "source": [
    "This is the Rectified Linear Unit(ReLU) activation function"
   ]
  },
  {
   "cell_type": "code",
   "execution_count": 10,
   "metadata": {},
   "outputs": [],
   "source": [
    "def relu(x):\n",
    "    return np.maximum(0, x)"
   ]
  },
  {
   "cell_type": "markdown",
   "metadata": {},
   "source": [
    "This is the derivative of the ReLU function"
   ]
  },
  {
   "cell_type": "code",
   "execution_count": 11,
   "metadata": {},
   "outputs": [],
   "source": [
    "def relu_derivative(x):\n",
    "    y = np.array(x > 0)\n",
    "    y = 1*y\n",
    "    return y"
   ]
  },
  {
   "cell_type": "markdown",
   "metadata": {},
   "source": [
    "This is the tanh activation function"
   ]
  },
  {
   "cell_type": "code",
   "execution_count": 12,
   "metadata": {},
   "outputs": [],
   "source": [
    "def tanh(x):\n",
    "    return np.tanh(x)"
   ]
  },
  {
   "cell_type": "markdown",
   "metadata": {},
   "source": [
    "This is the derivative of tanh function"
   ]
  },
  {
   "cell_type": "code",
   "execution_count": 13,
   "metadata": {},
   "outputs": [],
   "source": [
    "def tanh_derivative(x):\n",
    "    return 1/np.square(np.cosh(x))"
   ]
  },
  {
   "cell_type": "markdown",
   "metadata": {},
   "source": [
    "Computes the cost function for all the training samples"
   ]
  },
  {
   "cell_type": "code",
   "execution_count": 14,
   "metadata": {},
   "outputs": [],
   "source": [
    "def cost_function(A, m, data_Y):\n",
    "    total_cost = -(1 / m) * np.sum(data_Y * np.log(A) + (1 - data_Y) * np.log(1 - A))\n",
    "    return total_cost"
   ]
  },
  {
   "cell_type": "markdown",
   "metadata": {},
   "source": [
    "Here the results are predicted. The W and b of model are taken as input. The values are predicted using test dataset and then using the actual values the accuracy is computed"
   ]
  },
  {
   "cell_type": "code",
   "execution_count": 15,
   "metadata": {},
   "outputs": [],
   "source": [
    "def results(W1, b1, W2, b2, data_X, data_Y):\n",
    "    W1t = W1.transpose()\n",
    "    W2t = W2.transpose()\n",
    "    A1 = forward_prop_hidden(W1, b1, data_X)\n",
    "    A2 = forward_prop_output(W2, b2, A1)\n",
    "    pred_Y = A2.transpose()\n",
    "    pred_Y = np.around(pred_Y, decimals = 0)   #Rounding off the predicted value to 0 or 1\n",
    "    accuracy = accuracy_score(data_Y, pred_Y)\n",
    "    return accuracy"
   ]
  },
  {
   "cell_type": "raw",
   "metadata": {},
   "source": [
    "This is the neural network function. First we split the training data into training and validation sets. Then we initialize W and b with random numbers. After that using W, b and the training data we implement the forward propagation. Using the results we calculate the derivatives for the backward propagation step. After that we update our b and W using the derivative values obtained. We then test this using the validation data. We store the alpha for which accuracy was the highest. We also check with different number of hidden units which can be set from the variable h."
   ]
  },
  {
   "cell_type": "code",
   "execution_count": 16,
   "metadata": {},
   "outputs": [
    {
     "name": "stdout",
     "output_type": "stream",
     "text": [
      "Epoch: 0\n",
      "Epoch: 500\n",
      "Epoch: 1000\n",
      "Alpha: 0.0001 Accuracy: 0.8868333333333334\n",
      "Epoch: 0\n",
      "Epoch: 500\n",
      "Epoch: 1000\n",
      "Alpha: 0.001 Accuracy: 0.8945\n",
      "Epoch: 0\n",
      "Epoch: 500\n",
      "Epoch: 1000\n",
      "Alpha: 0.005 Accuracy: 0.9133333333333333\n",
      "Epoch: 0\n",
      "Epoch: 500\n",
      "Epoch: 1000\n",
      "Alpha: 0.01 Accuracy: 0.9718333333333333\n",
      "Epoch: 0\n",
      "Epoch: 500\n",
      "Epoch: 1000\n",
      "Alpha: 0.1 Accuracy: 0.15658333333333332\n",
      "Epoch: 0\n",
      "Epoch: 500\n",
      "Epoch: 1000\n",
      "Alpha: 0.05 Accuracy: 0.98125\n",
      "Max: 0.05\n"
     ]
    }
   ],
   "source": [
    "def neural_net():    \n",
    "    alpha = [0.0001, 0.001, 0.005, 0.01, 0.1, 0.05]   #set of learning rates to check from\n",
    "    epochs = 1001\n",
    "    max_cost = 0\n",
    "    max_accuracy = 0\n",
    "    alpha_max = 0\n",
    "    h = 5            #hidden units\n",
    "    for i in range(len(alpha)):\n",
    "        train_X, valid_X, train_Y, valid_Y = train_test_split(X, Y, test_size=0.2) # Splitting training data using 80:20 rule\n",
    "        valid_X = valid_X.transpose()\n",
    "        train_X = train_X.transpose()\n",
    "        n, m = train_X.shape\n",
    "        W1 = np.random.rand(n,h)     #Initializing W and b\n",
    "        b1 = random.random()\n",
    "        W2 = np.random.rand(h,1)\n",
    "        b2 = random.random()\n",
    "        for j in range(epochs):\n",
    "            if(j%500 == 0):\n",
    "                print('Epoch:', j)\n",
    "            A1 = forward_prop_hidden(W1, b1, train_X)         #forward propagation through hidden layer\n",
    "            A2 = forward_prop_output(W2, b2, A1)\n",
    "            dW2, db2, dZ2 = backward_prop_2(A2, A1, m, train_Y)        #backward propagation through output layer\n",
    "            dW1, db1 = backward_prop_1(A1, m, W2, dZ2, train_X)\n",
    "            W1 = W1 - alpha[i]*dW1                    #Updating b and W\n",
    "            b1 = b1 - alpha[i]*db1\n",
    "            W2 = W2 - alpha[i]*dW2.transpose()\n",
    "            b2 = b2 - alpha[i]*db2\n",
    "        b1 = sum(b1)/m\n",
    "        b2 = sum(b2)/m\n",
    "        accuracy = results(W1, b1, W2, b2, valid_X, valid_Y)   #testing the accuracy using validation set\n",
    "        if(accuracy >= max_accuracy):\n",
    "            alpha_max = alpha[i]                     #finding the alpha for which accuracy was the maximum\n",
    "            max_accuracy = accuracy\n",
    "        print('Alpha:',alpha[i],'Accuracy:', accuracy)\n",
    "    print( 'Max:',alpha_max)\n",
    "    return alpha_max\n",
    "alpha_max = neural_net()"
   ]
  },
  {
   "cell_type": "markdown",
   "metadata": {},
   "source": [
    "Here, we calculate the cost function for each iteration using the learning rate which we had obtained earlier. We run this on the entire training set. After obatining values of W and b, we calculate the training and test error."
   ]
  },
  {
   "cell_type": "code",
   "execution_count": 17,
   "metadata": {},
   "outputs": [
    {
     "name": "stdout",
     "output_type": "stream",
     "text": [
      "Epoch: 0\n"
     ]
    },
    {
     "name": "stderr",
     "output_type": "stream",
     "text": [
      "C:\\Users\\Bikram Kumar De\\Anaconda3\\lib\\site-packages\\ipykernel_launcher.py:2: RuntimeWarning: divide by zero encountered in log\n",
      "  \n",
      "C:\\Users\\Bikram Kumar De\\Anaconda3\\lib\\site-packages\\ipykernel_launcher.py:2: RuntimeWarning: invalid value encountered in multiply\n",
      "  \n"
     ]
    },
    {
     "name": "stdout",
     "output_type": "stream",
     "text": [
      "Epoch: 500\n",
      "Epoch: 1000\n",
      "Epoch: 1500\n",
      "Epoch: 2000\n",
      "Training error: 2.541666666666657 %\n",
      "Test error: 2.3800000000000097 %\n"
     ]
    }
   ],
   "source": [
    "X = X.transpose()\n",
    "n, m = X.shape\n",
    "h = 5  #no of hidden units\n",
    "W1 = np.random.rand(n,h)     #Initializing W and b\n",
    "b1 = random.random()\n",
    "W2 = np.random.rand(h,1)\n",
    "b2 = random.random()\n",
    "epochs = 2001\n",
    "cost_array = []\n",
    "J_arr =[]\n",
    "count = 0\n",
    "for j in range(epochs):\n",
    "    if(j%500 == 0):\n",
    "        print('Epoch:', j)\n",
    "    A1 = forward_prop_hidden(W1, b1, X)\n",
    "    A2 = forward_prop_output(W2, b2, A1)\n",
    "    dW2, db2, dZ2 = backward_prop_2(A2, A1, m, Y)\n",
    "    dW1, db1 = backward_prop_1(A1, m, W2, dZ2, X)\n",
    "    W1 = W1 - alpha_max*dW1                    #Updating b and W\n",
    "    b1 = b1 - alpha_max*db1\n",
    "    W2 = W2 - alpha_max*dW2.transpose()\n",
    "    b2 = b2 - alpha_max*db2\n",
    "    total_cost = cost_function(A2, m, Y)\n",
    "    cost_array.append(total_cost)    # Storing the value of cost function\n",
    "    J_arr.append(count)\n",
    "    count+= 1\n",
    "b1 = sum(b1)/m\n",
    "b2 = sum(b2)/m\n",
    "final_accuracy_test = results(W1, b1, W2, b2, test_X, test_Y)*100    # Calculating the training and test accuracy\n",
    "final_accuracy_train = results(W1, b1, W2, b2, X1.transpose(), Y)*100\n",
    "print('Training error:', str(100-final_accuracy_train),'%')\n",
    "print('Test error:', str(100-final_accuracy_test),'%')"
   ]
  },
  {
   "cell_type": "markdown",
   "metadata": {},
   "source": [
    "Plotting the cost function as a function of the iterations. We can see that the cost function decreases very fast initially but after a certain number of iterations the rate of decrease is much less which indicates that our neural network is  converging hence the error is reducing asymptotically."
   ]
  },
  {
   "cell_type": "code",
   "execution_count": 18,
   "metadata": {},
   "outputs": [
    {
     "data": {
      "image/png": "[encoded data removed]",
      "text/plain": [
       "<Figure size 432x288 with 1 Axes>"
      ]
     },
     "metadata": {
      "needs_background": "light"
     },
     "output_type": "display_data"
    }
   ],
   "source": [
    "plt.title('Cost Function Graph')\n",
    "plt.xlabel('Epoch')\n",
    "plt.ylabel('Cost Function')\n",
    "plt.plot(J_arr, cost_array)\n",
    "plt.show()"
   ]
  },
  {
   "cell_type": "markdown",
   "metadata": {},
   "source": [
    "Here, you can check any individual image. You can load the particular image from the test dataset by changing the array index. The program will tell whether the number is 1 or not"
   ]
  },
  {
   "cell_type": "code",
   "execution_count": null,
   "metadata": {},
   "outputs": [],
   "source": [
    "x1 = x_test[2]\n",
    "plt.imshow(x1, interpolation='nearest', cmap = 'gray')\n",
    "plt.show()\n",
    "x1 = x1.reshape(784, 1)\n",
    "A1 = forward_prop_hidden(W1, b1, x1)\n",
    "A2 = forward_prop_output(W2, b2, A1)\n",
    "if (A2<0.5):\n",
    "    print('This is not 1')\n",
    "else:\n",
    "    print('This is 1')\n"
   ]
  },
  {
   "cell_type": "code",
   "execution_count": 123,
   "metadata": {},
   "outputs": [
    {
     "data": {
      "image/png": "[encoded data removed]",
      "text/plain": [
       "<Figure size 432x288 with 1 Axes>"
      ]
     },
     "metadata": {
      "needs_background": "light"
     },
     "output_type": "display_data"
    },
    {
     "name": "stdout",
     "output_type": "stream",
     "text": [
      "This is not 1\n"
     ]
    }
   ],
   "source": [
    "x1 = x_test[2566]\n",
    "plt.imshow(x1, interpolation='nearest', cmap = 'gray')\n",
    "plt.show()\n",
    "x1 = x1.reshape(784, 1)\n",
    "A1 = forward_prop_hidden(W1, b1, x1)\n",
    "A2 = forward_prop_output(W2, b2, A1)\n",
    "if (A2<0.5):\n",
    "    print('This is not 1')\n",
    "else:\n",
    "    print('This is 1')"
   ]
  },
  {
   "cell_type": "markdown",
   "metadata": {},
   "source": [
    "Higher learning rate means the regression learns faster, i.e. it converges faster. The accuracy at end of 1000 epochs may not show significant changes on changing the learning rate because in this small dataset, having smaller alphas also makes the program converge.\n",
    "I have also checked the impact of different no of hidden layers by changing the value of h. It changes the accuracy but not significantly. It decreases the accuracy a bit. But it might also increase it. I found two different values when I ran the code twice with different hidden units. Anyway, the change was insignificant and might have been caused by the initial values of W and b.\n",
    "Also, I have checked the neural network using two different activation function tanh and ReLU in the hidden layer. To check it now, we need to change the name in forward propagation step and the derivative in backward propagation step. After checking I found that ReLU performs better than tanh for same alpha and same number of epochs(2000) and hidden layer."
   ]
  }
 ],
 "metadata": {
  "kernelspec": {
   "display_name": "Python 3",
   "language": "python",
   "name": "python3"
  },
  "language_info": {
   "codemirror_mode": {
    "name": "ipython",
    "version": 3
   },
   "file_extension": ".py",
   "mimetype": "text/x-python",
   "name": "python",
   "nbconvert_exporter": "python",
   "pygments_lexer": "ipython3",
   "version": "3.7.3"
  }
 },
 "nbformat": 4,
 "nbformat_minor": 2
}
